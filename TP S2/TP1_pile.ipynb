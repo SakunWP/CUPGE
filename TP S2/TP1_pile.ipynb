{
 "cells": [
  {
   "cell_type": "markdown",
   "metadata": {
    "id": "1CE_ZaqnSOps"
   },
   "source": [
    "Ce premier TP a pour but de vous familiarisez avec les fonctions de base de manipulation des piles. \n",
    "\n",
    "**A la  fin du TP, vous devez déposer votre  fichiers .ipynb dans le dépôt prévu sur\n",
    "Moodle**"
   ]
  },
  {
   "cell_type": "markdown",
   "metadata": {
    "id": "bm-IMgALS1mZ"
   },
   "source": [
    "#**I. Fonctions simples de manipulation de piles**\n",
    "\n",
    "Nous utiliserons la classe Stack_basic dont l'implémentation est donnée ici:\n"
   ]
  },
  {
   "cell_type": "code",
   "execution_count": null,
   "metadata": {
    "id": "0hmhlXQ-TJwG"
   },
   "outputs": [],
   "source": [
    "##Implementation d'une pile basique sans limite de taille ni gestion des erreurs\n",
    "#permet des opérations de base d'empilage et de dépilage\n",
    "class Stack_basic:\n",
    "\n",
    "    def __init__(self):\n",
    "        self.stack = []\n",
    "\n",
    "    def pop(self):\n",
    "        if self.size() < 1:\n",
    "            return None\n",
    "        return self.stack.pop()\n",
    "\n",
    "    def push(self, e):\n",
    "        self.stack.append(e)\n",
    "\n",
    "    def size(self):\n",
    "        return len(self.stack)\n",
    "    \n",
    "    def print_stack(self):\n",
    "        return print(self.stack)"
   ]
  },
  {
   "cell_type": "markdown",
   "metadata": {
    "id": "u_NC_4MaTUFC"
   },
   "source": [
    "On joue maintenant avec la classe Stack_basic. Exécuter le code suivant et observer les résultats (vous pouvez ajouter d'autres tests si vous le souhaitez)\n",
    "\n"
   ]
  },
  {
   "cell_type": "code",
   "execution_count": null,
   "metadata": {
    "colab": {
     "base_uri": "https://localhost:8080/"
    },
    "id": "RzRYfrjLTWuG",
    "outputId": "d6a2d8a4-86a4-4606-ea2f-85ca27d8592d"
   },
   "outputs": [],
   "source": [
    "ma_pile = Stack_basic()\n",
    "\n",
    "ma_pile.push(4)\n",
    "ma_pile.push(8)\n",
    "ma_pile.push(3) \n",
    "print(\"Contenu de ma pile:\")\n",
    "ma_pile.print_stack() \n",
    "print(\"Taille de ma pile=\", ma_pile.size()) # 3\n",
    "ma_pile.pop() \n",
    "print(\"Taille de ma pile=\", ma_pile.size()) # 2\n",
    "print(\"Contenu de ma pile:\")\n",
    "ma_pile.print_stack()  "
   ]
  },
  {
   "cell_type": "markdown",
   "metadata": {
    "id": "V5ZlX6DPTqYA"
   },
   "source": [
    "Voici maintenant l'implémentation d'une pile avec une limite de taille. Observer la classe et ses méthodes. "
   ]
  },
  {
   "cell_type": "code",
   "execution_count": null,
   "metadata": {
    "id": "gziWdDTxTeG-"
   },
   "outputs": [],
   "source": [
    "import copy\n",
    "#=====> Implementation avec limite de taille et gestion des erreurs\n",
    "class Stack:\n",
    "\n",
    "    def __init__(self, size=-1):  # initialisation de la pile\n",
    "        self.stack = []\n",
    "        self.max_size = size\n",
    "\n",
    "    def push(self, e):\n",
    "        if len(self.stack) < self.max_size:  # si limite non atteinte, on emplie\n",
    "            self.stack.append(e)\n",
    "        else:  # si limite atteinte alors erreur\n",
    "            print('Empliage de l\\'élément', e, 'impossible, taille max dépassée')\n",
    "            raise RuntimeError\n",
    "\n",
    "    def pop(self):   #attention, pop ici renvoie le sommet de la pile\n",
    "        if len(self.stack) > 0: # si pile non vide, dépile\n",
    "            return self.stack.pop()\n",
    "        else: #si pile pleine erreur\n",
    "            print('Dépilage impossible, Pile déjà vide.')\n",
    "            raise IndexError\n",
    "\n",
    "    def copier_pile(self) :\n",
    "      new=Stack(self.size())\n",
    "      new.stack=self.stack[:]\n",
    "      new.max_size=self.max_size\n",
    "      return new\n",
    "    \n",
    "    def __str__(self):  #permet l'affichage de la pile, via la fonction native print()\n",
    "        contenu=\"le contenu de la pile est : \"\n",
    "        for i in self.stack:\n",
    "          contenu=contenu+str(i)+ \" \"\n",
    "        return contenu\n",
    "    \n",
    "    def top(self): #pour récupérer le sommet de la pile\n",
    "        if len(self.stack) > 0:\n",
    "            return self.stack[-1]  #sommet dispo si pile non vide\n",
    "        else:  #sinon erreur\n",
    "            print('pile vide, pas de sommet.')\n",
    "            raise IndexError\n",
    "\n",
    "    def empty(self): # renvoie True si la pile et vide, False sinon\n",
    "        if len(self.stack)==0:\n",
    "            return True \n",
    "        else:\n",
    "            return False\n",
    "    \n",
    "    def size(self): # renvoie la taille de la pile, -1 si la pile est vide\n",
    "        if self.empty()==True:\n",
    "            return -1\n",
    "        else:\n",
    "            return len(self.stack)"
   ]
  },
  {
   "cell_type": "markdown",
   "metadata": {
    "id": "GLHtmP3xUdVY"
   },
   "source": [
    "A vous de jouer. Ajouter des méthodes dans la classe *Stack* qui permettent : \n",
    "\n",
    "* de vérifier si une pile est vide\n",
    "* de donner la taille de pile \n",
    "\n",
    "Ces fonctions sont dèjà présentes dans la classe (mais vide), il suffit de compléter le code.\n",
    "\n",
    "\n",
    "\n",
    "\n"
   ]
  },
  {
   "cell_type": "markdown",
   "metadata": {
    "id": "0_xIeuqwUIRj"
   },
   "source": [
    "On joue maintenant avec la nouvelle classe pile. Exécuter le code suivant et observer les résultats. Là aussi, vous pouvez ajouter d'autres tests si vous le souhaitez)\n",
    "\n"
   ]
  },
  {
   "cell_type": "code",
   "execution_count": null,
   "metadata": {
    "id": "x0vRAPupUNnF"
   },
   "outputs": [],
   "source": [
    "stack = Stack(5)\n",
    "stack.push(1)  \n",
    "stack.push(2) \n",
    "print('Sommet pile :', stack.top())\n",
    "print(stack)\n",
    "\n",
    "q=stack.copier_pile()\n",
    "print(q)\n",
    "\n",
    "stack.pop()\n",
    "stack.pop()\n",
    "\n",
    "\n",
    "# tester les fonctions empty et size\n"
   ]
  },
  {
   "cell_type": "markdown",
   "metadata": {
    "id": "1qTxJJG4amWm"
   },
   "source": [
    "En utilisant les fonctions de base fournies dans la classe Stack,  ecrire les fonctions suivantes. Ces fonctions sont  à  ecrire en dehors de la classe Stack :\n",
    "  \n",
    "* remplir_pile(p) : qui remplie une pile p avec nb entiers donnés au clavier\n",
    "* echanger(p) : qui permet d'echanger les deux  éléments situés en haut de la pile\n",
    "* inverser_pile(p) : renvoi une copie inversée de la pile p\n",
    "* pile_egale(p,q) : vérifie si deux piles p et q sont  egales (i.e., contiennent les mêmes  éléments dans le même ordre)."
   ]
  },
  {
   "cell_type": "code",
   "execution_count": 50,
   "metadata": {
    "id": "suvPXLXfcoua"
   },
   "outputs": [],
   "source": [
    "def remplir_pile(p):\n",
    "    nb=int(input())\n",
    "    k=0\n",
    "    while k<nb:\n",
    "        n=int(input())\n",
    "        p.push(n)\n",
    "        k=k+1\n",
    "    return p\n",
    "\n",
    "def echanger(p):\n",
    "    x=p.pop()\n",
    "    y=p.pop()\n",
    "    p.push(x)\n",
    "    p.push(y)\n",
    "    return p\n",
    "\n",
    "def inverser_pile(p):\n",
    "    q=Stack(p.size())\n",
    "    for k in range (p.size()):\n",
    "        x=p.pop()\n",
    "        q.push(x)\n",
    "    return q\n",
    "\n",
    "def pile_egale(p,q):\n",
    "    if q.size()!= p.size():\n",
    "        return False\n",
    "    else:\n",
    "        k=p.size()\n",
    "        while k<0:\n",
    "            x=p.pop()\n",
    "            y=q.pop()\n",
    "            if x!=y:\n",
    "                return False\n",
    "            return True\n",
    "            k=k-1\n",
    "\n",
    "\n"
   ]
  },
  {
   "cell_type": "markdown",
   "metadata": {
    "id": "JkfddZCidStB"
   },
   "source": [
    "Tester maintenant vos fonctions sur la pile p_test. Pour un meilleur debugage, prévoir des testes au fur et à mesure (i.e., après avoir fini d'implémenter chaque fonction)"
   ]
  },
  {
   "cell_type": "code",
   "execution_count": 51,
   "metadata": {
    "id": "5rpP9vgkdiKJ"
   },
   "outputs": [
    {
     "name": "stdout",
     "output_type": "stream",
     "text": [
      "5\n",
      "3\n",
      "1\n",
      "2\n",
      "3\n",
      "le contenu de la pile est : 1 3 2 \n",
      "None\n"
     ]
    }
   ],
   "source": [
    "#demander à l'utilisateur de saisir la taille de la pile\n",
    "taille=int(input())\n",
    "p=Stack(taille)\n",
    "\n",
    "P=remplir_pile(p)\n",
    "Q=echanger(p)\n",
    "print(Q)\n",
    "\n",
    "print(pile_egale(P,Q))\n",
    "\n",
    "\n",
    "\n",
    "\n",
    "\n"
   ]
  },
  {
   "cell_type": "markdown",
   "metadata": {
    "id": "WLMYdUSukJhx"
   },
   "source": [
    "#**II. Exercices d'application des piles**\n",
    "\n",
    "**1) Regroupement des éléments d'une pile**\n",
    "\n",
    "Ecrire une fonction regroupement(p) qui prend en argument une pile p contenant des nombres entiers et qui modifie l’ordre de ses éléments de sorte qu’en fin de traitement les nombres pairs soient situés sous les nombres impairs (on pourra utiliser une pile intermédiaire).\n",
    "\n",
    "![Capture d’écran 2022-02-03 à 18.11.47.png](data:image/png;base64,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)"
   ]
  },
  {
   "cell_type": "code",
   "execution_count": 68,
   "metadata": {
    "id": "OG6CjK3ekubU"
   },
   "outputs": [],
   "source": [
    "def regroupement(p):\n",
    "    q=Stack(p.size())\n",
    "    r=Stack(p.size())\n",
    "    for k in range (p.size()+1):\n",
    "        x=p.top()\n",
    "        if x%2==0:\n",
    "            q.push(x)\n",
    "        else:\n",
    "            r.push(x)\n",
    "    q=inverser_pile(q)\n",
    "    r=inverser_pile(r)\n",
    "    for i in range(r.size()+1):\n",
    "        q.push(r.top())\n",
    "    return q\n",
    "    "
   ]
  },
  {
   "cell_type": "code",
   "execution_count": 69,
   "metadata": {
    "id": "d7aZXJ7_k1EW"
   },
   "outputs": [
    {
     "name": "stdout",
     "output_type": "stream",
     "text": [
      "le contenu de la pile est : 3 4 1 7 6 2 5 \n",
      "Empliage de l'élément 5 impossible, taille max dépassée\n"
     ]
    },
    {
     "ename": "RuntimeError",
     "evalue": "",
     "output_type": "error",
     "traceback": [
      "\u001b[0;31m---------------------------------------------------------------------------\u001b[0m",
      "\u001b[0;31mRuntimeError\u001b[0m                              Traceback (most recent call last)",
      "\u001b[0;32m/var/folders/wg/tg8npcyn3lngglmt7h08zzqm0000gn/T/ipykernel_2656/1133506025.py\u001b[0m in \u001b[0;36m<module>\u001b[0;34m\u001b[0m\n\u001b[1;32m     11\u001b[0m \u001b[0mprint\u001b[0m\u001b[0;34m(\u001b[0m\u001b[0mpile\u001b[0m\u001b[0;34m)\u001b[0m\u001b[0;34m\u001b[0m\u001b[0;34m\u001b[0m\u001b[0m\n\u001b[1;32m     12\u001b[0m \u001b[0;34m\u001b[0m\u001b[0m\n\u001b[0;32m---> 13\u001b[0;31m \u001b[0mprint\u001b[0m\u001b[0;34m(\u001b[0m\u001b[0mregroupement\u001b[0m\u001b[0;34m(\u001b[0m\u001b[0mpile\u001b[0m\u001b[0;34m)\u001b[0m\u001b[0;34m)\u001b[0m\u001b[0;34m\u001b[0m\u001b[0;34m\u001b[0m\u001b[0m\n\u001b[0m",
      "\u001b[0;32m/var/folders/wg/tg8npcyn3lngglmt7h08zzqm0000gn/T/ipykernel_2656/844910321.py\u001b[0m in \u001b[0;36mregroupement\u001b[0;34m(p)\u001b[0m\n\u001b[1;32m      7\u001b[0m             \u001b[0mq\u001b[0m\u001b[0;34m.\u001b[0m\u001b[0mpush\u001b[0m\u001b[0;34m(\u001b[0m\u001b[0mx\u001b[0m\u001b[0;34m)\u001b[0m\u001b[0;34m\u001b[0m\u001b[0;34m\u001b[0m\u001b[0m\n\u001b[1;32m      8\u001b[0m         \u001b[0;32melse\u001b[0m\u001b[0;34m:\u001b[0m\u001b[0;34m\u001b[0m\u001b[0;34m\u001b[0m\u001b[0m\n\u001b[0;32m----> 9\u001b[0;31m             \u001b[0mr\u001b[0m\u001b[0;34m.\u001b[0m\u001b[0mpush\u001b[0m\u001b[0;34m(\u001b[0m\u001b[0mx\u001b[0m\u001b[0;34m)\u001b[0m\u001b[0;34m\u001b[0m\u001b[0;34m\u001b[0m\u001b[0m\n\u001b[0m\u001b[1;32m     10\u001b[0m     \u001b[0mq\u001b[0m\u001b[0;34m=\u001b[0m\u001b[0minverser_pile\u001b[0m\u001b[0;34m(\u001b[0m\u001b[0mq\u001b[0m\u001b[0;34m)\u001b[0m\u001b[0;34m\u001b[0m\u001b[0;34m\u001b[0m\u001b[0m\n\u001b[1;32m     11\u001b[0m     \u001b[0mr\u001b[0m\u001b[0;34m=\u001b[0m\u001b[0minverser_pile\u001b[0m\u001b[0;34m(\u001b[0m\u001b[0mr\u001b[0m\u001b[0;34m)\u001b[0m\u001b[0;34m\u001b[0m\u001b[0;34m\u001b[0m\u001b[0m\n",
      "\u001b[0;32m/var/folders/wg/tg8npcyn3lngglmt7h08zzqm0000gn/T/ipykernel_2656/2541239908.py\u001b[0m in \u001b[0;36mpush\u001b[0;34m(self, e)\u001b[0m\n\u001b[1;32m     12\u001b[0m         \u001b[0;32melse\u001b[0m\u001b[0;34m:\u001b[0m  \u001b[0;31m# si limite atteinte alors erreur\u001b[0m\u001b[0;34m\u001b[0m\u001b[0;34m\u001b[0m\u001b[0m\n\u001b[1;32m     13\u001b[0m             \u001b[0mprint\u001b[0m\u001b[0;34m(\u001b[0m\u001b[0;34m'Empliage de l\\'élément'\u001b[0m\u001b[0;34m,\u001b[0m \u001b[0me\u001b[0m\u001b[0;34m,\u001b[0m \u001b[0;34m'impossible, taille max dépassée'\u001b[0m\u001b[0;34m)\u001b[0m\u001b[0;34m\u001b[0m\u001b[0;34m\u001b[0m\u001b[0m\n\u001b[0;32m---> 14\u001b[0;31m             \u001b[0;32mraise\u001b[0m \u001b[0mRuntimeError\u001b[0m\u001b[0;34m\u001b[0m\u001b[0;34m\u001b[0m\u001b[0m\n\u001b[0m\u001b[1;32m     15\u001b[0m \u001b[0;34m\u001b[0m\u001b[0m\n\u001b[1;32m     16\u001b[0m     \u001b[0;32mdef\u001b[0m \u001b[0mpop\u001b[0m\u001b[0;34m(\u001b[0m\u001b[0mself\u001b[0m\u001b[0;34m)\u001b[0m\u001b[0;34m:\u001b[0m   \u001b[0;31m#attention, pop ici renvoie le sommet de la pile\u001b[0m\u001b[0;34m\u001b[0m\u001b[0;34m\u001b[0m\u001b[0m\n",
      "\u001b[0;31mRuntimeError\u001b[0m: "
     ]
    }
   ],
   "source": [
    "#tester votre fonction ici sur la variable pile\n",
    "pile=Stack(7)\n",
    "pile.push(3)\n",
    "pile.push(4)\n",
    "pile.push(1)\n",
    "pile.push(7)\n",
    "pile.push(6)\n",
    "pile.push(2)\n",
    "pile.push(5)\n",
    "\n",
    "print(pile)\n",
    "\n",
    "print(regroupement(pile))\n"
   ]
  },
  {
   "cell_type": "markdown",
   "metadata": {
    "id": "glOHH8MFgSLJ"
   },
   "source": [
    "\n",
    "**2) Tri d'une pile**\n",
    "\n",
    "a-- Ecrire une fonction inserer(e,p) qui prend en entrée une pile triée dans l’ordre croissant et un nombre e, et qui insère e dans la pile de telle sorte qu’elle soit toujour  triée dans l’ordre croissant. (On pourra utiliser une pile intermédiaire)\n",
    "\n",
    "![Capture d’écran 2022-02-03 à 18.16.24.png](data:image/png;base64,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)\n",
    "\n",
    "b -- En déduire un algorithme de tri d’une pile quelconque.\n",
    "Encore une fois, on pourra utiliser un pile auxiliaire."
   ]
  },
  {
   "cell_type": "code",
   "execution_count": null,
   "metadata": {
    "id": "j6l-PhXElxAt"
   },
   "outputs": [],
   "source": [
    "# ecrire vos fonctions ici"
   ]
  },
  {
   "cell_type": "code",
   "execution_count": null,
   "metadata": {
    "id": "NUgnNNYQl1T2"
   },
   "outputs": [],
   "source": [
    "#tester votre fonction ici\n",
    "pile=Stack(10)\n",
    "pile.push(1)\n",
    "pile.push(2)\n",
    "pile.push(4)\n",
    "pile.push(5)\n",
    "\n",
    "#appeler votre fonction inserer ici\n",
    "\n",
    "\n",
    "# appeler votre fonction tri ici\n"
   ]
  },
  {
   "cell_type": "markdown",
   "metadata": {
    "id": "2Zr49sBj7ELn"
   },
   "source": [
    "**3) Pile et palindromes**\n",
    "\n",
    "Un palindrome est un mot qui se lit de la même façon de gauche à droite et de droite à gauche. Par exemple, abababa est un palindrome, kayak et coloc en sont deux autres.\n",
    "\n",
    "Implémenter à l’aide d’une pile un programme qui prend en entrée un mot et renvoie True si c’est un palindrome et False sinon."
   ]
  },
  {
   "cell_type": "code",
   "execution_count": null,
   "metadata": {
    "id": "ZqdP7vJazze_"
   },
   "outputs": [],
   "source": [
    "# ecrire vos fonctions ici"
   ]
  },
  {
   "cell_type": "code",
   "execution_count": null,
   "metadata": {
    "id": "OUInMljrxAa7"
   },
   "outputs": [],
   "source": [
    "#tester  votre fonction ici\n",
    "\n",
    "mot=\"kayac\" #mettre votre mot ici\n",
    "liste_mot=list(mot)  #transforme le mot en liste pour pouvoir itérer sur la liste et remplir la pile\n",
    "print(liste_mot)\n"
   ]
  }
 ],
 "metadata": {
  "colab": {
   "collapsed_sections": [],
   "name": "TP1-pile.ipynb",
   "provenance": []
  },
  "kernelspec": {
   "display_name": "Python 3 (ipykernel)",
   "language": "python",
   "name": "python3"
  },
  "language_info": {
   "codemirror_mode": {
    "name": "ipython",
    "version": 3
   },
   "file_extension": ".py",
   "mimetype": "text/x-python",
   "name": "python",
   "nbconvert_exporter": "python",
   "pygments_lexer": "ipython3",
   "version": "3.9.7"
  }
 },
 "nbformat": 4,
 "nbformat_minor": 1
}
