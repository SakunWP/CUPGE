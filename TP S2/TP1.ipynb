{
 "cells": [
  {
   "cell_type": "markdown",
   "metadata": {},
   "source": [
    "<H1>L1 CUPGE - Python TP1</H1>\n",
    "\n",
    "# 1 Prise en main de Python\n",
    "\n",
    "## 1.1 Les types de données\n",
    "\n",
    "Python est un langage de programmation interprété. Cela signifie que l'interpréteur doit être lancé pour exécuter le code. Dans les boîtes qui suivent, on peut taper du code en langage Python. Il est possible de demander l'exécution de ce code en cliquant sur le bouton \"exécuter\" en haut (run cell).\n",
    "\n",
    "Pour commencer, exécuter la ligne suivante qui permet d'initialiser les bibliothèques qu'on va utiliser au cours de l'année."
   ]
  },
  {
   "cell_type": "code",
   "execution_count": 10,
   "metadata": {},
   "outputs": [
    {
     "name": "stdout",
     "output_type": "stream",
     "text": [
      "Populating the interactive namespace from numpy and matplotlib\n"
     ]
    }
   ],
   "source": [
    "%pylab inline"
   ]
  },
  {
   "cell_type": "markdown",
   "metadata": {},
   "source": [
    "Puis exécuter les exemples suivant."
   ]
  },
  {
   "cell_type": "code",
   "execution_count": 5,
   "metadata": {},
   "outputs": [
    {
     "data": {
      "text/plain": [
       "6"
      ]
     },
     "execution_count": 5,
     "metadata": {},
     "output_type": "execute_result"
    }
   ],
   "source": [
    "1 + 2 + 3"
   ]
  },
  {
   "cell_type": "code",
   "execution_count": 14,
   "metadata": {},
   "outputs": [
    {
     "data": {
      "text/plain": [
       "2.0933333333333333"
      ]
     },
     "execution_count": 14,
     "metadata": {},
     "output_type": "execute_result"
    }
   ],
   "source": [
    "pi=3.14\n",
    "2 * pi / 3"
   ]
  },
  {
   "cell_type": "code",
   "execution_count": 2,
   "metadata": {
    "canopy_exercise": {
     "cell_type": "<None>"
    }
   },
   "outputs": [
    {
     "data": {
      "text/plain": [
       "3.0"
      ]
     },
     "execution_count": 2,
     "metadata": {},
     "output_type": "execute_result"
    }
   ],
   "source": [
    "(1 + 2 + 3 + 4 + 5) / 5"
   ]
  },
  {
   "cell_type": "code",
   "execution_count": 10,
   "metadata": {},
   "outputs": [
    {
     "data": {
      "text/plain": [
       "1.4142135623730951"
      ]
     },
     "execution_count": 10,
     "metadata": {},
     "output_type": "execute_result"
    }
   ],
   "source": [
    "import math as m\n",
    "m.sqrt(2)"
   ]
  },
  {
   "cell_type": "code",
   "execution_count": 12,
   "metadata": {},
   "outputs": [
    {
     "data": {
      "text/plain": [
       "20.085536923187668"
      ]
     },
     "execution_count": 12,
     "metadata": {},
     "output_type": "execute_result"
    }
   ],
   "source": [
    "import math as m\n",
    "m.exp(3)"
   ]
  },
  {
   "cell_type": "code",
   "execution_count": null,
   "metadata": {},
   "outputs": [],
   "source": [
    "exp(log(2))"
   ]
  },
  {
   "cell_type": "markdown",
   "metadata": {},
   "source": [
    "Nous utiliserons les types de données suivant:\n",
    "\n",
    "-   int\n",
    "-   float\n",
    "-   complex\n",
    "-   boolean\n",
    "-   list\n",
    "\n",
    "### 1.1.1 Les entiers\n",
    "\n",
    "Ce type contient la représentation d'un nombre entier relatif. On noter que l'opérateur de division euclidienne se note `//`."
   ]
  },
  {
   "cell_type": "code",
   "execution_count": null,
   "metadata": {},
   "outputs": [],
   "source": [
    "type(3)"
   ]
  },
  {
   "cell_type": "code",
   "execution_count": null,
   "metadata": {},
   "outputs": [],
   "source": [
    "1 // 2"
   ]
  },
  {
   "cell_type": "markdown",
   "metadata": {},
   "source": [
    "**Exercice**: calculer la somme des 10 premiers entiers non nuls."
   ]
  },
  {
   "cell_type": "code",
   "execution_count": 30,
   "metadata": {},
   "outputs": [
    {
     "name": "stdout",
     "output_type": "stream",
     "text": [
      "55\n"
     ]
    }
   ],
   "source": [
    "s=0\n",
    "for k in range (1,11):\n",
    "    s=s+k\n",
    "print(s)"
   ]
  },
  {
   "cell_type": "markdown",
   "metadata": {},
   "source": [
    "### 1.1.2 Les flottants\n",
    "\n",
    "Ce type contient la représentation d'un nombre réel. La différence avec un `int` tient dans la présence d'un séparateur décimal: le point \"`.`\""
   ]
  },
  {
   "cell_type": "code",
   "execution_count": 15,
   "metadata": {},
   "outputs": [
    {
     "data": {
      "text/plain": [
       "float"
      ]
     },
     "execution_count": 15,
     "metadata": {},
     "output_type": "execute_result"
    }
   ],
   "source": [
    "type(1.5)"
   ]
  },
  {
   "cell_type": "markdown",
   "metadata": {},
   "source": [
    "La plupart des opérateurs vont convertir en `float` leurs opérandes entières lorsque l'une au moins des opérandes est flottante. La division (non euclidienne) le fait dans tous les cas, même si les deux opérandes sont entières."
   ]
  },
  {
   "cell_type": "code",
   "execution_count": 16,
   "metadata": {},
   "outputs": [
    {
     "data": {
      "text/plain": [
       "0.5"
      ]
     },
     "execution_count": 16,
     "metadata": {},
     "output_type": "execute_result"
    }
   ],
   "source": [
    "1 / 2"
   ]
  },
  {
   "cell_type": "code",
   "execution_count": 17,
   "metadata": {},
   "outputs": [
    {
     "data": {
      "text/plain": [
       "3.0"
      ]
     },
     "execution_count": 17,
     "metadata": {},
     "output_type": "execute_result"
    }
   ],
   "source": [
    "1 + 2.0"
   ]
  },
  {
   "cell_type": "code",
   "execution_count": 18,
   "metadata": {},
   "outputs": [
    {
     "data": {
      "text/plain": [
       "15.0"
      ]
     },
     "execution_count": 18,
     "metadata": {},
     "output_type": "execute_result"
    }
   ],
   "source": [
    "3.0 * 5"
   ]
  },
  {
   "cell_type": "markdown",
   "metadata": {},
   "source": [
    "Lorsque le nombre est très petit ou au contraire très grand, il sera affiché en notation scientifique. Le symbole `e` signifie \"*... fois dix puissance ...*\"."
   ]
  },
  {
   "cell_type": "code",
   "execution_count": 19,
   "metadata": {},
   "outputs": [
    {
     "data": {
      "text/plain": [
       "1e-15"
      ]
     },
     "execution_count": 19,
     "metadata": {},
     "output_type": "execute_result"
    }
   ],
   "source": [
    "0.000000000000001"
   ]
  },
  {
   "cell_type": "code",
   "execution_count": 20,
   "metadata": {},
   "outputs": [
    {
     "data": {
      "text/plain": [
       "1e+17"
      ]
     },
     "execution_count": 20,
     "metadata": {},
     "output_type": "execute_result"
    }
   ],
   "source": [
    "100000000000000000."
   ]
  },
  {
   "cell_type": "markdown",
   "metadata": {},
   "source": [
    "**Exercice**: calculer $\\sum\\limits_{k=5}^{10}k^2\\cdot10^k$."
   ]
  },
  {
   "cell_type": "code",
   "execution_count": 23,
   "metadata": {},
   "outputs": [
    {
     "name": "stdout",
     "output_type": "stream",
     "text": [
      "803\n"
     ]
    }
   ],
   "source": [
    "s=0\n",
    "for k in range (5,10):\n",
    "    s=k*k*10^k\n",
    "print(s)"
   ]
  },
  {
   "cell_type": "markdown",
   "metadata": {},
   "source": [
    "Les nombres flottants travaillent avec une précision fixée, qui correspond à un nombre de chiffres significatifs en notation scientifique. Cela implique que des erreurs d'arrondi pourront se produire lors de certains calculs."
   ]
  },
  {
   "cell_type": "code",
   "execution_count": 24,
   "metadata": {},
   "outputs": [
    {
     "data": {
      "text/plain": [
       "0.0007963267107332633"
      ]
     },
     "execution_count": 24,
     "metadata": {},
     "output_type": "execute_result"
    }
   ],
   "source": [
    "cos(pi / 2)"
   ]
  },
  {
   "cell_type": "code",
   "execution_count": 49,
   "metadata": {},
   "outputs": [
    {
     "data": {
      "text/plain": [
       "1.1102230246251565e-15"
      ]
     },
     "execution_count": 49,
     "metadata": {},
     "output_type": "execute_result"
    }
   ],
   "source": [
    "1.000000000000001 - 1"
   ]
  },
  {
   "cell_type": "markdown",
   "metadata": {},
   "source": [
    "**Exercice**: déterminer le nombre de chiffres significatifs des flottants en base 10."
   ]
  },
  {
   "cell_type": "code",
   "execution_count": 44,
   "metadata": {},
   "outputs": [
    {
     "data": {
      "text/plain": [
       "9007199254740992"
      ]
     },
     "execution_count": 44,
     "metadata": {},
     "output_type": "execute_result"
    }
   ],
   "source": [
    "2**53"
   ]
  },
  {
   "cell_type": "code",
   "execution_count": 51,
   "metadata": {},
   "outputs": [
    {
     "data": {
      "text/plain": [
       "1000000000000000"
      ]
     },
     "execution_count": 51,
     "metadata": {},
     "output_type": "execute_result"
    }
   ],
   "source": [
    "10**15"
   ]
  },
  {
   "cell_type": "markdown",
   "metadata": {},
   "source": [
    "Enfin, lorsqu'on effectue certains calculs dont le résultat est non défini, Python peut renvoyer deux valeurs particulières qui ne correspondent à aucun nombre réel: `nan` (*not a number*) et `inf` (*infinity*)."
   ]
  },
  {
   "cell_type": "code",
   "execution_count": 52,
   "metadata": {},
   "outputs": [
    {
     "name": "stderr",
     "output_type": "stream",
     "text": [
      "/opt/anaconda3/lib/python3.7/site-packages/ipykernel_launcher.py:1: RuntimeWarning: invalid value encountered in sqrt\n",
      "  \"\"\"Entry point for launching an IPython kernel.\n"
     ]
    },
    {
     "data": {
      "text/plain": [
       "nan"
      ]
     },
     "execution_count": 52,
     "metadata": {},
     "output_type": "execute_result"
    }
   ],
   "source": [
    "sqrt(-1)"
   ]
  },
  {
   "cell_type": "code",
   "execution_count": 54,
   "metadata": {},
   "outputs": [
    {
     "data": {
      "text/plain": [
       "float"
      ]
     },
     "execution_count": 54,
     "metadata": {},
     "output_type": "execute_result"
    }
   ],
   "source": [
    "type(nan)"
   ]
  },
  {
   "cell_type": "code",
   "execution_count": 62,
   "metadata": {},
   "outputs": [
    {
     "data": {
      "text/plain": [
       "inf"
      ]
     },
     "execution_count": 62,
     "metadata": {},
     "output_type": "execute_result"
    }
   ],
   "source": [
    "1e308"
   ]
  },
  {
   "cell_type": "code",
   "execution_count": 55,
   "metadata": {},
   "outputs": [
    {
     "data": {
      "text/plain": [
       "float"
      ]
     },
     "execution_count": 55,
     "metadata": {},
     "output_type": "execute_result"
    }
   ],
   "source": [
    "type(inf)"
   ]
  },
  {
   "cell_type": "markdown",
   "metadata": {},
   "source": [
    "**Exercice**: déterminer le nombre de chiffres en base 10 de la valeur maximale que peut contenir un nombre flottant."
   ]
  },
  {
   "cell_type": "code",
   "execution_count": 64,
   "metadata": {},
   "outputs": [
    {
     "data": {
      "text/plain": [
       "100000000000000000000000000000000000000000000000000000000000000000000000000000000000000000000000000000000000000000000000000000000000000000000000000000000000000000000000000000000000000000000000000000000000000000000000000000000000000000000000000000000000000000000000000000000000000000000000000000000000000000000"
      ]
     },
     "execution_count": 64,
     "metadata": {},
     "output_type": "execute_result"
    }
   ],
   "source": [
    "10**308"
   ]
  },
  {
   "cell_type": "code",
   "execution_count": 63,
   "metadata": {},
   "outputs": [
    {
     "data": {
      "text/plain": [
       "0.0"
      ]
     },
     "execution_count": 63,
     "metadata": {},
     "output_type": "execute_result"
    }
   ],
   "source": [
    "100**(-323)"
   ]
  },
  {
   "cell_type": "markdown",
   "metadata": {},
   "source": [
    "### 1.1.3 Les complexes\n",
    "\n",
    "Python fournit également un type pour les calculs avec des nombres complexes. Un nombre complexe se note sous la forme `a + bj` où `a` `b` sont l'écriture de nombres flottants. Ici, `j` désigne le nombre complexe qu'on note $i$ en mathématiques.\n",
    "\n",
    "**Attention**: `j` écrit tout seul n'est pas égal au nombre complexe $i$. Il faut écrire `1j`. "
   ]
  },
  {
   "cell_type": "code",
   "execution_count": 65,
   "metadata": {},
   "outputs": [
    {
     "ename": "NameError",
     "evalue": "name 'j' is not defined",
     "output_type": "error",
     "traceback": [
      "\u001b[0;31m---------------------------------------------------------------------------\u001b[0m",
      "\u001b[0;31mNameError\u001b[0m                                 Traceback (most recent call last)",
      "\u001b[0;32m<ipython-input-65-3eedd8854d1e>\u001b[0m in \u001b[0;36m<module>\u001b[0;34m\u001b[0m\n\u001b[0;32m----> 1\u001b[0;31m \u001b[0mj\u001b[0m\u001b[0;34m\u001b[0m\u001b[0;34m\u001b[0m\u001b[0m\n\u001b[0m",
      "\u001b[0;31mNameError\u001b[0m: name 'j' is not defined"
     ]
    }
   ],
   "source": [
    "j"
   ]
  },
  {
   "cell_type": "code",
   "execution_count": 66,
   "metadata": {},
   "outputs": [
    {
     "data": {
      "text/plain": [
       "complex"
      ]
     },
     "execution_count": 66,
     "metadata": {},
     "output_type": "execute_result"
    }
   ],
   "source": [
    "type(1 + 2j)"
   ]
  },
  {
   "cell_type": "code",
   "execution_count": 67,
   "metadata": {},
   "outputs": [
    {
     "data": {
      "text/plain": [
       "(-1+0j)"
      ]
     },
     "execution_count": 67,
     "metadata": {},
     "output_type": "execute_result"
    }
   ],
   "source": [
    "1j * 1j"
   ]
  },
  {
   "cell_type": "code",
   "execution_count": 68,
   "metadata": {},
   "outputs": [
    {
     "data": {
      "text/plain": [
       "(1.2682724604973217e-06+0.0015926529164868282j)"
      ]
     },
     "execution_count": 68,
     "metadata": {},
     "output_type": "execute_result"
    }
   ],
   "source": [
    "exp(1j * pi) + 1"
   ]
  },
  {
   "cell_type": "markdown",
   "metadata": {},
   "source": [
    "On peut calculer le module, la partie réelle ou imaginaire ou encore le conjugué d'un nombre complexe."
   ]
  },
  {
   "cell_type": "code",
   "execution_count": 69,
   "metadata": {},
   "outputs": [
    {
     "data": {
      "text/plain": [
       "5.0"
      ]
     },
     "execution_count": 69,
     "metadata": {},
     "output_type": "execute_result"
    }
   ],
   "source": [
    "abs(3 - 4j)"
   ]
  },
  {
   "cell_type": "code",
   "execution_count": 70,
   "metadata": {},
   "outputs": [
    {
     "data": {
      "text/plain": [
       "2.0"
      ]
     },
     "execution_count": 70,
     "metadata": {},
     "output_type": "execute_result"
    }
   ],
   "source": [
    "(2 + 3j).real"
   ]
  },
  {
   "cell_type": "code",
   "execution_count": 71,
   "metadata": {},
   "outputs": [
    {
     "data": {
      "text/plain": [
       "3.0"
      ]
     },
     "execution_count": 71,
     "metadata": {},
     "output_type": "execute_result"
    }
   ],
   "source": [
    "(2 + 3j).imag"
   ]
  },
  {
   "cell_type": "code",
   "execution_count": 72,
   "metadata": {},
   "outputs": [
    {
     "data": {
      "text/plain": [
       "(2-3j)"
      ]
     },
     "execution_count": 72,
     "metadata": {},
     "output_type": "execute_result"
    }
   ],
   "source": [
    "conj(2 + 3j)"
   ]
  },
  {
   "cell_type": "markdown",
   "metadata": {},
   "source": [
    "**Exercice**: calculer la valeur de $(1+i)(1+2i)(1+3i)(1+4i)$."
   ]
  },
  {
   "cell_type": "code",
   "execution_count": 76,
   "metadata": {},
   "outputs": [
    {
     "ename": "NameError",
     "evalue": "name 'j' is not defined",
     "output_type": "error",
     "traceback": [
      "\u001b[0;31m---------------------------------------------------------------------------\u001b[0m",
      "\u001b[0;31mNameError\u001b[0m                                 Traceback (most recent call last)",
      "\u001b[0;32m<ipython-input-76-649610b62c79>\u001b[0m in \u001b[0;36m<module>\u001b[0;34m\u001b[0m\n\u001b[0;32m----> 1\u001b[0;31m \u001b[0;34m(\u001b[0m\u001b[0;36m1\u001b[0m\u001b[0;34m+\u001b[0m\u001b[0mj\u001b[0m\u001b[0;34m)\u001b[0m\u001b[0;34m*\u001b[0m\u001b[0;34m(\u001b[0m\u001b[0;36m1\u001b[0m\u001b[0;34m+\u001b[0m\u001b[0;36m2j\u001b[0m\u001b[0;34m)\u001b[0m\u001b[0;34m*\u001b[0m\u001b[0;34m(\u001b[0m\u001b[0;36m1\u001b[0m\u001b[0;34m+\u001b[0m\u001b[0;36m3j\u001b[0m\u001b[0;34m)\u001b[0m\u001b[0;34m*\u001b[0m\u001b[0;34m(\u001b[0m\u001b[0;36m1\u001b[0m\u001b[0;34m+\u001b[0m\u001b[0;36m4j\u001b[0m\u001b[0;34m)\u001b[0m\u001b[0;34m\u001b[0m\u001b[0;34m\u001b[0m\u001b[0m\n\u001b[0m",
      "\u001b[0;31mNameError\u001b[0m: name 'j' is not defined"
     ]
    }
   ],
   "source": [
    "(1+j)*(1+2j)*(1+3j)*(1+4j)"
   ]
  },
  {
   "cell_type": "markdown",
   "metadata": {},
   "source": [
    "### 1.1.4 Les booléens\n",
    "\n",
    "Le type booléen ne peut prendre que deux valeurs: `True` ou `False` (attention à la majuscule). En programmation, on l'utilise pour tester si une condition est vérifiée ou non.\n",
    "\n",
    "**Attention**: pour tester si deux nombres sont égaux, on doit utiliser l'opérateur double signe égal `==`."
   ]
  },
  {
   "cell_type": "code",
   "execution_count": 77,
   "metadata": {},
   "outputs": [
    {
     "ename": "SyntaxError",
     "evalue": "can't assign to literal (<ipython-input-77-1eff2fd1033f>, line 1)",
     "output_type": "error",
     "traceback": [
      "\u001b[0;36m  File \u001b[0;32m\"<ipython-input-77-1eff2fd1033f>\"\u001b[0;36m, line \u001b[0;32m1\u001b[0m\n\u001b[0;31m    0 = 0\u001b[0m\n\u001b[0m         ^\u001b[0m\n\u001b[0;31mSyntaxError\u001b[0m\u001b[0;31m:\u001b[0m can't assign to literal\n"
     ]
    }
   ],
   "source": [
    "0 = 0"
   ]
  },
  {
   "cell_type": "code",
   "execution_count": 79,
   "metadata": {},
   "outputs": [
    {
     "data": {
      "text/plain": [
       "False"
      ]
     },
     "execution_count": 79,
     "metadata": {},
     "output_type": "execute_result"
    }
   ],
   "source": [
    "0 == 1"
   ]
  },
  {
   "cell_type": "code",
   "execution_count": 80,
   "metadata": {},
   "outputs": [
    {
     "data": {
      "text/plain": [
       "True"
      ]
     },
     "execution_count": 80,
     "metadata": {},
     "output_type": "execute_result"
    }
   ],
   "source": [
    "1.0000 == 1"
   ]
  },
  {
   "cell_type": "markdown",
   "metadata": {},
   "source": [
    "**Exercice**: parmi les nombres 7642661 et 7642663, lequel est divisible par 13?"
   ]
  },
  {
   "cell_type": "code",
   "execution_count": 81,
   "metadata": {},
   "outputs": [
    {
     "data": {
      "text/plain": [
       "True"
      ]
     },
     "execution_count": 81,
     "metadata": {},
     "output_type": "execute_result"
    }
   ],
   "source": [
    "7642661%13==0"
   ]
  },
  {
   "cell_type": "code",
   "execution_count": 82,
   "metadata": {},
   "outputs": [
    {
     "data": {
      "text/plain": [
       "False"
      ]
     },
     "execution_count": 82,
     "metadata": {},
     "output_type": "execute_result"
    }
   ],
   "source": [
    "7642663%13==0"
   ]
  },
  {
   "cell_type": "markdown",
   "metadata": {},
   "source": [
    "### 1.1.5 Les listes\n",
    "\n",
    "Une liste est une suite de valeurs séparées par des virgules et entourée par des crochets `[` et `]`. Les valeurs à l'intérieur d'une liste peuvent être de types différents. On peut également mettre des listes dans une liste, mais attention à bien respecter la ponctuation et les crochets..."
   ]
  },
  {
   "cell_type": "code",
   "execution_count": 83,
   "metadata": {},
   "outputs": [
    {
     "data": {
      "text/plain": [
       "list"
      ]
     },
     "execution_count": 83,
     "metadata": {},
     "output_type": "execute_result"
    }
   ],
   "source": [
    "type([1, 2, 3])"
   ]
  },
  {
   "cell_type": "code",
   "execution_count": 84,
   "metadata": {},
   "outputs": [
    {
     "data": {
      "text/plain": [
       "[1, 0.5, (1+3j), True]"
      ]
     },
     "execution_count": 84,
     "metadata": {},
     "output_type": "execute_result"
    }
   ],
   "source": [
    "[1, 0.5, 1+3j, True]"
   ]
  },
  {
   "cell_type": "code",
   "execution_count": 85,
   "metadata": {},
   "outputs": [
    {
     "data": {
      "text/plain": [
       "[[1, 2, 3], [4, 5, 6]]"
      ]
     },
     "execution_count": 85,
     "metadata": {},
     "output_type": "execute_result"
    }
   ],
   "source": [
    "[[1, 2, 3], [4, 5, 6]]"
   ]
  },
  {
   "cell_type": "markdown",
   "metadata": {},
   "source": [
    "Une liste peut être vide. On récupère le nombre d'éléments d'une liste grâce à la fonction `len`."
   ]
  },
  {
   "cell_type": "code",
   "execution_count": 86,
   "metadata": {},
   "outputs": [
    {
     "data": {
      "text/plain": [
       "0"
      ]
     },
     "execution_count": 86,
     "metadata": {},
     "output_type": "execute_result"
    }
   ],
   "source": [
    "len([])"
   ]
  },
  {
   "cell_type": "code",
   "execution_count": 87,
   "metadata": {},
   "outputs": [
    {
     "data": {
      "text/plain": [
       "4"
      ]
     },
     "execution_count": 87,
     "metadata": {},
     "output_type": "execute_result"
    }
   ],
   "source": [
    "len([1, 2, 0, 7])"
   ]
  },
  {
   "cell_type": "markdown",
   "metadata": {},
   "source": [
    "Les opérateurs `+` et `*` prennent un autre sens lorsqu'on les utilise avec des listes."
   ]
  },
  {
   "cell_type": "code",
   "execution_count": 88,
   "metadata": {},
   "outputs": [
    {
     "data": {
      "text/plain": [
       "[1, 2, 3, 4, 5, 6, 7, 8]"
      ]
     },
     "execution_count": 88,
     "metadata": {},
     "output_type": "execute_result"
    }
   ],
   "source": [
    "[1, 2, 3] + [4, 5, 6] + [7, 8]"
   ]
  },
  {
   "cell_type": "code",
   "execution_count": 89,
   "metadata": {},
   "outputs": [
    {
     "data": {
      "text/plain": [
       "[3, 7, 3, 7, 3, 7, 3, 7, 3, 7]"
      ]
     },
     "execution_count": 89,
     "metadata": {},
     "output_type": "execute_result"
    }
   ],
   "source": [
    "[3, 7] * 5"
   ]
  },
  {
   "cell_type": "markdown",
   "metadata": {},
   "source": [
    "**Exercice**: créer la liste des valeurs prises par $(-1)^k$ pour $k$ variant de 0 à 100."
   ]
  },
  {
   "cell_type": "code",
   "execution_count": 90,
   "metadata": {
    "scrolled": true
   },
   "outputs": [
    {
     "name": "stdout",
     "output_type": "stream",
     "text": [
      "[1, -1, 1, -1, 1, -1, 1, -1, 1, -1, 1, -1, 1, -1, 1, -1, 1, -1, 1, -1, 1, -1, 1, -1, 1, -1, 1, -1, 1, -1, 1, -1, 1, -1, 1, -1, 1, -1, 1, -1, 1, -1, 1, -1, 1, -1, 1, -1, 1, -1, 1, -1, 1, -1, 1, -1, 1, -1, 1, -1, 1, -1, 1, -1, 1, -1, 1, -1, 1, -1, 1, -1, 1, -1, 1, -1, 1, -1, 1, -1, 1, -1, 1, -1, 1, -1, 1, -1, 1, -1, 1, -1, 1, -1, 1, -1, 1, -1, 1, -1, 1]\n"
     ]
    }
   ],
   "source": [
    "l=[]\n",
    "v=0\n",
    "for k in range (0,101):\n",
    "    v=(-1)**k\n",
    "    l.append(v)\n",
    "print(l)"
   ]
  },
  {
   "cell_type": "markdown",
   "metadata": {},
   "source": [
    "## 1.2 Les opérateurs\n",
    "\n",
    "On a déjà vu les opérateurs `+`, `-`, `*`, `/`. Il en existe d'autres:\n",
    "\n",
    "-   `a ** b` pour calculer $a^b$\n",
    "-   `a % b` pour calculer le reste de la division euclidienne de `a` par `b`\n",
    "-   `a or b` pour tester si une condition **ou** une autre est vérifiée\n",
    "-   `a and b` pour tester si une condition **et** une autre est vérifiée\n",
    "-   `a <= b` pour tester si $a\\leq b$ (ainsi que `<`, `>`, `>=`)\n",
    "-   `a != b` pour tester si $a\\neq b$\n",
    "\n",
    "**Exercice**: créer la liste des 6 premières puissances de 2."
   ]
  },
  {
   "cell_type": "code",
   "execution_count": 93,
   "metadata": {},
   "outputs": [
    {
     "name": "stdout",
     "output_type": "stream",
     "text": [
      "[1, 2, 4, 8, 16, 32]\n"
     ]
    }
   ],
   "source": [
    "k=0\n",
    "l=[]\n",
    "while k<6:\n",
    "    p=2**k\n",
    "    l.append(p)\n",
    "    k=k+1\n",
    "print(l)"
   ]
  },
  {
   "cell_type": "markdown",
   "metadata": {},
   "source": [
    "**Exercice**: le nombre 1710608 est-il un multiple de 11 et de 17?"
   ]
  },
  {
   "cell_type": "code",
   "execution_count": 95,
   "metadata": {},
   "outputs": [
    {
     "data": {
      "text/plain": [
       "True"
      ]
     },
     "execution_count": 95,
     "metadata": {},
     "output_type": "execute_result"
    }
   ],
   "source": [
    "1710608%17==0"
   ]
  },
  {
   "cell_type": "markdown",
   "metadata": {},
   "source": [
    "**Exercice**: le nombre 1710608 est-il un multiple de 11 ou de 17?"
   ]
  },
  {
   "cell_type": "code",
   "execution_count": 96,
   "metadata": {},
   "outputs": [
    {
     "data": {
      "text/plain": [
       "False"
      ]
     },
     "execution_count": 96,
     "metadata": {},
     "output_type": "execute_result"
    }
   ],
   "source": [
    "1710608%11==0"
   ]
  },
  {
   "cell_type": "markdown",
   "metadata": {},
   "source": [
    "## 1.3 Les fonctions courantes\n",
    "\n",
    "Voici quelques-unes des fonctions proposées par Python. Nous en rencontrerons d'autres par la suite.\n",
    "\n",
    "-   Fonctions numériques:\n",
    "    -   `sin`, `cos`, `tan`\n",
    "    -   `sqrt`, `abs`\n",
    "    -   `exp`, `log`\n",
    "-   Fonctions spécifiques aux listes:\n",
    "    -   `len`\n",
    "    -   `range([min], max, [step])` génère la liste des nombres de `min` à `max` en avançant de `step`. Les arguments entre crochets sont optionnels. S'ils ne sont pas spécifiés, par défaut `min` vaudra 0 et `step` vaudra 1.\n",
    "    \n",
    "        **Attention**:\n",
    "\n",
    "        -   le `max` est à prendre au sens strict, c'est à dire que la liste s'arrêtera toujours avant.\n",
    "        -   la fonction `range` renvoie un type spécial qui n'est pas à proprement parler une liste. Pour obtenir réellement une liste, il faut écrire `list(range(...))`."
   ]
  },
  {
   "cell_type": "code",
   "execution_count": 97,
   "metadata": {},
   "outputs": [
    {
     "data": {
      "text/plain": [
       "range(0, 5)"
      ]
     },
     "execution_count": 97,
     "metadata": {},
     "output_type": "execute_result"
    }
   ],
   "source": [
    "range(5)"
   ]
  },
  {
   "cell_type": "code",
   "execution_count": 98,
   "metadata": {},
   "outputs": [
    {
     "data": {
      "text/plain": [
       "[0, 1, 2, 3, 4]"
      ]
     },
     "execution_count": 98,
     "metadata": {},
     "output_type": "execute_result"
    }
   ],
   "source": [
    "list(range(5))"
   ]
  },
  {
   "cell_type": "code",
   "execution_count": 99,
   "metadata": {},
   "outputs": [
    {
     "data": {
      "text/plain": [
       "[3, 4, 5, 6]"
      ]
     },
     "execution_count": 99,
     "metadata": {},
     "output_type": "execute_result"
    }
   ],
   "source": [
    "list(range(3, 7))"
   ]
  },
  {
   "cell_type": "code",
   "execution_count": 100,
   "metadata": {},
   "outputs": [
    {
     "data": {
      "text/plain": [
       "[5, 4, 3, 2, 1]"
      ]
     },
     "execution_count": 100,
     "metadata": {},
     "output_type": "execute_result"
    }
   ],
   "source": [
    "list(range(5, 0, -1))"
   ]
  },
  {
   "cell_type": "markdown",
   "metadata": {},
   "source": [
    "**Exercice**: créer la liste des entiers de 0 à 20 (inclus) dans l'ordre décroissant."
   ]
  },
  {
   "cell_type": "code",
   "execution_count": 102,
   "metadata": {},
   "outputs": [
    {
     "data": {
      "text/plain": [
       "[0, 1, 2, 3, 4, 5, 6, 7, 8, 9, 10, 11, 12, 13, 14, 15, 16, 17, 18, 19, 20]"
      ]
     },
     "execution_count": 102,
     "metadata": {},
     "output_type": "execute_result"
    }
   ],
   "source": [
    "list(range(21))"
   ]
  },
  {
   "cell_type": "markdown",
   "metadata": {},
   "source": [
    "**Exercice**: créer la liste des 20 premiers entiers impairs."
   ]
  },
  {
   "cell_type": "code",
   "execution_count": 104,
   "metadata": {},
   "outputs": [
    {
     "data": {
      "text/plain": [
       "[0, 2, 4, 6, 8, 10, 12, 14, 16, 18, 20]"
      ]
     },
     "execution_count": 104,
     "metadata": {},
     "output_type": "execute_result"
    }
   ],
   "source": [
    "\n",
    "list(range(0,21,+2))"
   ]
  },
  {
   "cell_type": "markdown",
   "metadata": {},
   "source": [
    "Il faut également mentionner la fonction `print` qui permet d'afficher le résultat d'un calcul. Jusqu'ici, on avait constaté que seul le résultat du dernier calcul était affiché. Avec `print`, on peut en afficher autant que désiré.\n"
   ]
  },
  {
   "cell_type": "code",
   "execution_count": 105,
   "metadata": {},
   "outputs": [
    {
     "name": "stdout",
     "output_type": "stream",
     "text": [
      "3\n",
      "True\n",
      "[1, 2, 3, 4]\n",
      "1 2 3 4\n"
     ]
    }
   ],
   "source": [
    "print(1+2)\n",
    "print(3 * 3 == 9)\n",
    "print([1, 2, 3, 4])\n",
    "print(1, 2, 3, 4)"
   ]
  },
  {
   "cell_type": "markdown",
   "metadata": {},
   "source": [
    "## 1.4 Les variables\n",
    "\n",
    "Une variable est référencée par son nom, qui doit commencer par une lettre suivie de zéro ou plusieurs caractères alphanumériques. Exemples: `x`, `test32`, `v2x`.\n",
    "\n",
    "On *affecte* une valeur à une variable à l'aide de l'opérateur `=`. Une fois qu'une variable a été affectée, on peut l'utiliser dans les calculs.\n",
    "\n",
    "**Attention**: Python fait la différence entre majuscules et minuscules. Par exemple, les noms `a` et `A` représentent des variables différentes."
   ]
  },
  {
   "cell_type": "code",
   "execution_count": 106,
   "metadata": {},
   "outputs": [
    {
     "name": "stdout",
     "output_type": "stream",
     "text": [
      "2.0\n",
      "16\n",
      "True\n"
     ]
    }
   ],
   "source": [
    "x = 4\n",
    "y = 2\n",
    "\n",
    "print(x / y)\n",
    "print(x ** y)\n",
    "print(x > y)"
   ]
  },
  {
   "cell_type": "markdown",
   "metadata": {},
   "source": [
    "Losqu'une liste est affectée à une variable, il est possible de la modifier grâce aux fonctions suivantes:\n",
    "\n",
    "-   `list.append(element)` pour ajouter un élément supplémentaire à la fin d'une liste\n",
    "-   `list.insert(index, element)` pour insérer un élément à une position donnée dans la liste\n",
    "    \n",
    "    **Attention**: en python, l'index du premier élément d'une liste est zéro. Pour insérer un élément en début de liste, il faudra donc prendre `index=0`.\n",
    "-   `list.pop(index)` pour enlever un élément à la liste. Si `index` n'est pas spécifié, ce sera le dernier élément."
   ]
  },
  {
   "cell_type": "code",
   "execution_count": 107,
   "metadata": {},
   "outputs": [
    {
     "name": "stdout",
     "output_type": "stream",
     "text": [
      "[13, 2, 3, 4, 7]\n",
      "[13, 2, 3, 7]\n"
     ]
    }
   ],
   "source": [
    "l = []\n",
    "l.append(13)\n",
    "l = l + [2, 3, 4]\n",
    "l.append(7)\n",
    "print(l)\n",
    "\n",
    "l.pop(3)\n",
    "print(l)"
   ]
  },
  {
   "cell_type": "markdown",
   "metadata": {},
   "source": [
    "**Exercice**: générer la liste des entiers de 0 à 40 qui ne sont pas multiples de 13"
   ]
  },
  {
   "cell_type": "code",
   "execution_count": 109,
   "metadata": {},
   "outputs": [
    {
     "name": "stdout",
     "output_type": "stream",
     "text": [
      "[1, 2, 3, 4, 5, 6, 7, 8, 9, 10, 11, 12, 14, 15, 16, 17, 18, 19, 20, 21, 22, 23, 24, 25, 27, 28, 29, 30, 31, 32, 33, 34, 35, 36, 37, 38, 40]\n"
     ]
    }
   ],
   "source": [
    "l=[]\n",
    "k=0\n",
    "while k<41:\n",
    "    if k%13!=0:\n",
    "        l.append(k)\n",
    "    k=k+1\n",
    "print(l)\n",
    "        "
   ]
  },
  {
   "cell_type": "markdown",
   "metadata": {},
   "source": [
    "Les variables de type `list` ont une autre particularité. On peut accéder à un élément à une position donnée en utilisant des crochets:\n",
    "\n",
    "-   pour utiliser sa valeur dans une expression,\n",
    "-   ou pour le modifier avec avec l'opérateur `=`.\n",
    "\n",
    "Là encore, on prendra garde au fait que les éléments sont numérotés en partant de zéro."
   ]
  },
  {
   "cell_type": "code",
   "execution_count": null,
   "metadata": {},
   "outputs": [],
   "source": [
    "l = [1, 2, 3, 4]\n",
    "\n",
    "l[1] = 5\n",
    "print(l)\n",
    "\n",
    "l[3] = l[0]\n",
    "print(l)"
   ]
  },
  {
   "cell_type": "markdown",
   "metadata": {},
   "source": [
    "# 2 Programmer en Python\n",
    "\n",
    "## 2.1 Les structures de contrôle `if`, `for` et `while`\n",
    "\n",
    "### 2.1.1 Branchement conditionnel `if`\n",
    "\n",
    "La syntaxe d'un `if` est la suivante:\n",
    "\n",
    "    if condition:\n",
    "        #Code à effectuer si la condition est vérifiée\n",
    "    else:\n",
    "        #Code à effectuer si la condition n'est pas vérifiée\n",
    "\n",
    "La clause `else` n'est pas obligatoire, dans certains cas on n'en aura pas besoin.\n",
    "\n",
    "**Important**: en Python, tout ce qui se situe à l'intérieur d'un bloc introduit par `:` (c'est le cas de ce qui suit un `if` ou un `else` par exemple) doit impérativement être décalé vers la droite de 4 espaces supplémentaires. Il est **primordial** de respecter cette règle, sinon vos programmes ne fonctionneront pas correctement.\n",
    "\n",
    "**Exercice**: modifier la valeur stockée dans la variable `x` à la première ligne du programme qui suit pour comprendre ce qu'il fait."
   ]
  },
  {
   "cell_type": "code",
   "execution_count": 110,
   "metadata": {},
   "outputs": [
    {
     "name": "stdout",
     "output_type": "stream",
     "text": [
      "Le nombre 32 est pair.\n",
      "Fin de l'exemple.\n"
     ]
    }
   ],
   "source": [
    "x = 32\n",
    "\n",
    "if x % 2 == 0:\n",
    "    print(\"Le nombre\", x, \"est pair.\")\n",
    "else:\n",
    "    print(\"Le nombre\", x, \"est impair.\")\n",
    "print(\"Fin de l'exemple.\")"
   ]
  },
  {
   "cell_type": "markdown",
   "metadata": {},
   "source": [
    "### 2.1.2 Boucle `for`\n",
    "\n",
    "La syntaxe d'une boucle `for` est la suivante:\n",
    "\n",
    "    for variable in list:\n",
    "        #Code à répéter\n",
    "\n",
    "**Exercice**: comprendre ce que fait le code suivant."
   ]
  },
  {
   "cell_type": "code",
   "execution_count": 112,
   "metadata": {},
   "outputs": [
    {
     "name": "stdout",
     "output_type": "stream",
     "text": [
      "0\n",
      "1\n",
      "2\n",
      "3\n",
      "4\n",
      "5\n",
      "6\n",
      "7\n",
      "8\n",
      "9\n"
     ]
    }
   ],
   "source": [
    "for k in range(10):\n",
    "    print(k)"
   ]
  },
  {
   "cell_type": "markdown",
   "metadata": {},
   "source": [
    "**Exercice**: modifier le programme précédent pour qu'il n'affiche que des chiffres pairs."
   ]
  },
  {
   "cell_type": "code",
   "execution_count": 113,
   "metadata": {},
   "outputs": [
    {
     "name": "stdout",
     "output_type": "stream",
     "text": [
      "0\n",
      "2\n",
      "4\n",
      "6\n",
      "8\n"
     ]
    }
   ],
   "source": [
    "for k in range(10):\n",
    "    if k%2==0:\n",
    "        print(k)"
   ]
  },
  {
   "cell_type": "markdown",
   "metadata": {},
   "source": [
    "**Exercice**: afficher les 10 premières puissances de 3."
   ]
  },
  {
   "cell_type": "code",
   "execution_count": 115,
   "metadata": {},
   "outputs": [
    {
     "name": "stdout",
     "output_type": "stream",
     "text": [
      "1\n",
      "3\n",
      "9\n",
      "27\n",
      "81\n",
      "243\n",
      "729\n",
      "2187\n",
      "6561\n",
      "19683\n"
     ]
    }
   ],
   "source": [
    "for k in range(10):\n",
    "    print(3**k)"
   ]
  },
  {
   "cell_type": "markdown",
   "metadata": {},
   "source": [
    "**Exercice**: soit la liste `l` suivante:\n",
    "\n",
    "    l = [1, -13, -15, 9, -5, 18, 32, -7]\n",
    "\n",
    "Afficher tous les éléments de l qui sont négatifs."
   ]
  },
  {
   "cell_type": "code",
   "execution_count": 120,
   "metadata": {},
   "outputs": [
    {
     "name": "stdout",
     "output_type": "stream",
     "text": [
      "-13\n",
      "-15\n",
      "-5\n",
      "-7\n"
     ]
    }
   ],
   "source": [
    "l = [1, -13, -15, 9, -5, 18, 32, -7]\n",
    "for k in l:\n",
    "    if k<0:\n",
    "        print(k)\n"
   ]
  },
  {
   "cell_type": "markdown",
   "metadata": {},
   "source": [
    "Le code itératif suivant permet de créer une liste (ici la liste des racines des 10 premiers entiers).\n",
    "\n",
    "**Important**: cet exemple est à comprendre et à retenir, on utilisera fréquemment des constructions similaires par la suite."
   ]
  },
  {
   "cell_type": "code",
   "execution_count": 121,
   "metadata": {},
   "outputs": [
    {
     "name": "stdout",
     "output_type": "stream",
     "text": [
      "[0.0, 1.0, 1.4142135623730951, 1.7320508075688772, 2.0, 2.23606797749979, 2.449489742783178, 2.6457513110645907, 2.8284271247461903, 3.0]\n"
     ]
    }
   ],
   "source": [
    "l = []\n",
    "for n in range(10):\n",
    "    l.append(sqrt(n))\n",
    "print(l)"
   ]
  },
  {
   "cell_type": "markdown",
   "metadata": {},
   "source": [
    "**Exercice**: Soit la suite $u_n=n^2 - n + 1$ pour $n\\geq 0$. Stocker dans la variable `U` la liste contenant les 50 premières valeurs de $u_n$."
   ]
  },
  {
   "cell_type": "code",
   "execution_count": 122,
   "metadata": {},
   "outputs": [
    {
     "name": "stdout",
     "output_type": "stream",
     "text": [
      "[1, 1, 3, 7, 13, 21, 31, 43, 57, 73, 91, 111, 133, 157, 183, 211, 241, 273, 307, 343, 381, 421, 463, 507, 553, 601, 651, 703, 757, 813, 871, 931, 993, 1057, 1123, 1191, 1261, 1333, 1407, 1483, 1561, 1641, 1723, 1807, 1893, 1981, 2071, 2163, 2257, 2353]\n"
     ]
    }
   ],
   "source": [
    "l=[]\n",
    "for k in range (50):\n",
    "    l.append(k**2-k+1)\n",
    "print(l)"
   ]
  },
  {
   "cell_type": "markdown",
   "metadata": {},
   "source": [
    "### 2.1.3 Boucle `while`\n",
    "\n",
    "La syntaxe est la suivante:\n",
    "\n",
    "    while condition:\n",
    "        #Instructions à répéter jusqu'à ce que la condition ne soit plus remplie\n",
    "\n",
    "**Exercice**: comprendre ce que fait le code suivant:"
   ]
  },
  {
   "cell_type": "code",
   "execution_count": 123,
   "metadata": {},
   "outputs": [
    {
     "name": "stdout",
     "output_type": "stream",
     "text": [
      "32\n",
      "16\n",
      "8\n",
      "4\n",
      "2\n",
      "1\n",
      "0\n"
     ]
    }
   ],
   "source": [
    "x = 64\n",
    "while x > 0:\n",
    "    x = x // 2\n",
    "    print(x)"
   ]
  },
  {
   "cell_type": "markdown",
   "metadata": {},
   "source": [
    "**Attention**: on prendra garde à ce que la condition testée s'arrête au bout d'un nombre fini d'itérations. Dans le cas contraire, le programme continue indéfiniment, on parle alors de boucle infinie. Si cela se produit, on peut interrompre l'exécution du programme à l'aide du menu \"*Kernel*\" -> \"*Interrupt*\" ou \"*Kernel*\" -> \"*Restart*\"."
   ]
  },
  {
   "cell_type": "code",
   "execution_count": null,
   "metadata": {},
   "outputs": [],
   "source": [
    "x = 0\n",
    "while x == 0:\n",
    "    x = 0"
   ]
  },
  {
   "cell_type": "markdown",
   "metadata": {},
   "source": [
    "**Exercice**: trouver le premier entier $k\\geq 0$ tel que $k^2-5k+6>10000$."
   ]
  },
  {
   "cell_type": "code",
   "execution_count": null,
   "metadata": {},
   "outputs": [],
   "source": [
    "k=0\n",
    "while k"
   ]
  },
  {
   "cell_type": "markdown",
   "metadata": {},
   "source": [
    "## 2.2 Graphismes en Python\n",
    "\n",
    "On peut par exemple utiliser la fonction `plot(list)` qui trace la courbe des points de la suite donnée dans `list`."
   ]
  },
  {
   "cell_type": "code",
   "execution_count": 9,
   "metadata": {},
   "outputs": [
    {
     "ename": "NameError",
     "evalue": "name 'plot' is not defined",
     "output_type": "error",
     "traceback": [
      "\u001b[0;31m---------------------------------------------------------------------------\u001b[0m",
      "\u001b[0;31mNameError\u001b[0m                                 Traceback (most recent call last)",
      "\u001b[0;32m<ipython-input-9-7d006ce27206>\u001b[0m in \u001b[0;36m<module>\u001b[0;34m\u001b[0m\n\u001b[0;32m----> 1\u001b[0;31m \u001b[0mplot\u001b[0m\u001b[0;34m(\u001b[0m\u001b[0;34m[\u001b[0m\u001b[0;36m1\u001b[0m\u001b[0;34m,\u001b[0m \u001b[0;36m7\u001b[0m\u001b[0;34m,\u001b[0m \u001b[0;36m0\u001b[0m\u001b[0;34m,\u001b[0m \u001b[0;36m3\u001b[0m\u001b[0;34m,\u001b[0m \u001b[0;36m2\u001b[0m\u001b[0;34m]\u001b[0m\u001b[0;34m)\u001b[0m\u001b[0;34m\u001b[0m\u001b[0;34m\u001b[0m\u001b[0m\n\u001b[0m",
      "\u001b[0;31mNameError\u001b[0m: name 'plot' is not defined"
     ]
    }
   ],
   "source": [
    "plot([1, 7, 0, 3, 2])"
   ]
  },
  {
   "cell_type": "markdown",
   "metadata": {},
   "source": [
    "**Exercice**: Soit la suite $v_n=\\cos\\frac{2\\pi n}{100}$ pour $n\\geq 0$. Tracer les 500 premiers points de cette suite."
   ]
  },
  {
   "cell_type": "code",
   "execution_count": 11,
   "metadata": {},
   "outputs": [
    {
     "data": {
      "text/plain": [
       "[<matplotlib.lines.Line2D at 0x7f0899baec88>]"
      ]
     },
     "execution_count": 11,
     "metadata": {},
     "output_type": "execute_result"
    },
    {
     "data": {
      "image/png": "[encoded data removed]",
      "text/plain": [
       "<Figure size 432x288 with 1 Axes>"
      ]
     },
     "metadata": {
      "needs_background": "light"
     },
     "output_type": "display_data"
    }
   ],
   "source": [
    "import math as m\n",
    "l=[]\n",
    "for k in range (500):\n",
    "    l.append(m.cos(2*m.pi*k/100))\n",
    "plot(l)"
   ]
  },
  {
   "cell_type": "markdown",
   "metadata": {},
   "source": [
    "Il est également possible de spécifier les abcisses des points. Pour cela on utilisera `plot(liste_abcisses, liste_ordonnées)`."
   ]
  },
  {
   "cell_type": "code",
   "execution_count": 12,
   "metadata": {},
   "outputs": [
    {
     "data": {
      "text/plain": [
       "[<matplotlib.lines.Line2D at 0x7f0899b52f28>]"
      ]
     },
     "execution_count": 12,
     "metadata": {},
     "output_type": "execute_result"
    },
    {
     "data": {
      "image/png": "[encoded data removed]",
      "text/plain": [
       "<Figure size 432x288 with 1 Axes>"
      ]
     },
     "metadata": {
      "needs_background": "light"
     },
     "output_type": "display_data"
    }
   ],
   "source": [
    "plot([0, 1, 2, 0, -2, 1, 4], [0, 1, 0, -2, 0, 3, 0])"
   ]
  },
  {
   "cell_type": "markdown",
   "metadata": {},
   "source": [
    "**Exercice**: soit la fonction $f$ définie sur l'intervalle $[0,1]$ par $f(x)=\\cos(10\\pi x)$. On effectue une subdivision de l'intervalle $[0,1]$ en 500 sous-intervalles de la forme $[x_k,x_{k+1}]$ pour $0\\leq k< 500$. Générer la liste `X` contenant les valeurs de $x_k$ puis la liste `Y` contenant les valeurs de $f(x_k)$ pour $0\\leq k\\leq500$. Afficher le graphique de `Y` en fonction de `X`."
   ]
  },
  {
   "cell_type": "code",
   "execution_count": 16,
   "metadata": {},
   "outputs": [
    {
     "data": {
      "text/plain": [
       "[<matplotlib.lines.Line2D at 0x7f08999c4748>]"
      ]
     },
     "execution_count": 16,
     "metadata": {},
     "output_type": "execute_result"
    },
    {
     "data": {
      "image/png": "[encoded data removed]",
      "text/plain": [
       "<Figure size 432x288 with 1 Axes>"
      ]
     },
     "metadata": {
      "needs_background": "light"
     },
     "output_type": "display_data"
    }
   ],
   "source": [
    "x=0\n",
    "l=[]\n",
    "for k in range (500):\n",
    "    x=k*1/500\n",
    "    l.append(x)\n",
    "l2=[]\n",
    "for i in l:\n",
    "    y=cos(10*pi*i)\n",
    "    l2.append(y)\n",
    "plot(l,l2)"
   ]
  },
  {
   "cell_type": "markdown",
   "metadata": {},
   "source": [
    "**Exercice**: même question pour la fonction $g(x)=x^2+3x+2$ sur l'intervalle $[-4,1]$."
   ]
  },
  {
   "cell_type": "code",
   "execution_count": 18,
   "metadata": {},
   "outputs": [
    {
     "data": {
      "text/plain": [
       "[<matplotlib.lines.Line2D at 0x7f0899909f98>]"
      ]
     },
     "execution_count": 18,
     "metadata": {},
     "output_type": "execute_result"
    },
    {
     "data": {
      "image/png": "[encoded data removed]",
      "text/plain": [
       "<Figure size 432x288 with 1 Axes>"
      ]
     },
     "metadata": {
      "needs_background": "light"
     },
     "output_type": "display_data"
    }
   ],
   "source": [
    "x=0\n",
    "l=[]\n",
    "for k in range (500):\n",
    "    x=-4+k*5/500\n",
    "    l.append(x)\n",
    "l2=[]\n",
    "for i in l:\n",
    "    y=i**2+3*i+2\n",
    "    l2.append(y)\n",
    "plot(l,l2)"
   ]
  },
  {
   "cell_type": "markdown",
   "metadata": {},
   "source": [
    "**Exercice**: on considère la courbe paramétrique:\n",
    "\n",
    "$$\\forall t\\in[0,2\\pi]\\colon\\begin{cases}x(t)=\\cos t\\cr y(t)=\\sin t+\\sqrt{\\vert\\cos t\\vert}\\end{cases}$$\n",
    "\n",
    "Sur le modèle de l'exercice précédent, découper l'intervalle $[0,2\\pi]$ en 500 sous-intervalles de la forme $[t_k,t_{k+1}]$, et afficher la courbe obtenue en reliant les points de coordonnées $(x(t_k),y(t_k))$ pour $0\\leq k\\leq500$."
   ]
  },
  {
   "cell_type": "code",
   "execution_count": 25,
   "metadata": {},
   "outputs": [
    {
     "data": {
      "text/plain": [
       "[<matplotlib.lines.Line2D at 0x7f08997e2c18>]"
      ]
     },
     "execution_count": 25,
     "metadata": {},
     "output_type": "execute_result"
    },
    {
     "data": {
      "image/png": "[encoded data removed]",
      "text/plain": [
       "<Figure size 432x288 with 1 Axes>"
      ]
     },
     "metadata": {
      "needs_background": "light"
     },
     "output_type": "display_data"
    }
   ],
   "source": [
    "t=0\n",
    "l=[]\n",
    "for k in range (500):\n",
    "    t=k*2*pi/500\n",
    "    l.append(t)\n",
    "l2=[]\n",
    "for i in l:\n",
    "    x=cos(i)\n",
    "    l2.append(x)\n",
    "l3=[]\n",
    "for a in l:\n",
    "    y=sin(a)+sqrt(abs(cos(a)))\n",
    "    l3.append(y)\n",
    "plot(l2,l3)"
   ]
  },
  {
   "cell_type": "markdown",
   "metadata": {},
   "source": [
    "Il est possible de représenter plusieurs courbes sur un même dessin. Pour cela, on pourra mettre plusieurs appels à plot dans le même bloc."
   ]
  },
  {
   "cell_type": "code",
   "execution_count": 20,
   "metadata": {},
   "outputs": [
    {
     "data": {
      "text/plain": [
       "[<matplotlib.lines.Line2D at 0x7f08998a4d68>]"
      ]
     },
     "execution_count": 20,
     "metadata": {},
     "output_type": "execute_result"
    },
    {
     "data": {
      "image/png": "[encoded data removed]",
      "text/plain": [
       "<Figure size 432x288 with 1 Axes>"
      ]
     },
     "metadata": {
      "needs_background": "light"
     },
     "output_type": "display_data"
    }
   ],
   "source": [
    "plot([0, 0, 1, 1, 0], [0, 1, 1, 0, 0])\n",
    "plot([-2, 1, 4, 1, -2], [0, 3, 0, -3, 0])"
   ]
  },
  {
   "cell_type": "markdown",
   "metadata": {},
   "source": [
    "Il est également possible de changer les valeurs aux extrémités des axes, de manière à pouvoir ajuster le zoom: `axis([xmin, xmax, ymin, ymax])`.\n",
    "\n",
    "Si on le souhaite, on peut aussi forcer le repère à être orthonormé avec `axis(\"scaled\")`."
   ]
  },
  {
   "cell_type": "code",
   "execution_count": 21,
   "metadata": {},
   "outputs": [
    {
     "data": {
      "text/plain": [
       "[-3, 5, -4, 4]"
      ]
     },
     "execution_count": 21,
     "metadata": {},
     "output_type": "execute_result"
    },
    {
     "data": {
      "image/png": "[encoded data removed]",
      "text/plain": [
       "<Figure size 432x288 with 1 Axes>"
      ]
     },
     "metadata": {
      "needs_background": "light"
     },
     "output_type": "display_data"
    }
   ],
   "source": [
    "maximum(x, y)plot([0, 0, 1, 1, 0], [0, 1, 1, 0, 0])\n",
    "plot([-2, 1, 4, 1, -2], [0, 3, 0, -3, 0])\n",
    "axis(\"scaled\")\n",
    "axis([-3, 5, -4, 4])"
   ]
  },
  {
   "cell_type": "markdown",
   "metadata": {},
   "source": [
    "Enfin, il est possible de changer les couleurs ou le style des lignes tracées:\n",
    "\n",
    "    plot(X, Y, color=\"color\", linestyle=\"linestyle\", marker=\"marker\")\n",
    "\n",
    "Les styles sont optionnels et se notent entre guillemets.\n",
    "\n",
    "Exemples de `color`:\n",
    "\n",
    "*   `\"red\"`\n",
    "*   `\"green\"`\n",
    "*   `\"blue\"`\n",
    "\n",
    "Exemples de `linestyle`:\n",
    "\n",
    "*   `\"solid\"` ou `\"-\"` (lignes pleines)\n",
    "*   `\"dashed\"` ou `\"--\"` (tirets)\n",
    "*   `\"dotted\"` ou `\":\"` (pointillés)\n",
    "*   `\"\"` (pas de lignes)\n",
    "\n",
    "Exemples de `marker`:\n",
    "\n",
    "*   `\",\"` (petits points)\n",
    "*   `\".\"` (gros points)\n",
    "*   `\"o\"` (cercles)\n",
    "*   `\"*\"` (étoiles)\n",
    "*   `\"+\"` ou `\"x\"` (croix)\n",
    "*   `\"\"` (pas de `marker`)\n",
    "\n",
    "On peut également utiliser la forme abrégée\n",
    "    \n",
    "    plot(X, Y, \"style\")\n",
    "    \n",
    "où `style` représente le style sous forme abrégée, par exemple:\n",
    "\n",
    "*   `\"y-x\"` pour des croix reliées par des lignes jaunes\n",
    "*   `\"g:*\"` pour des étoiles reliées par des pointillés verts\n",
    "*   `\"bo\"` pour des cercles bleus sans lignes\n",
    "*   `\"c-\"` pour des lignes cyans sans marqueur"
   ]
  },
  {
   "cell_type": "code",
   "execution_count": 128,
   "metadata": {},
   "outputs": [
    {
     "data": {
      "text/plain": [
       "[-3, 7, -4, 5]"
      ]
     },
     "execution_count": 128,
     "metadata": {},
     "output_type": "execute_result"
    },
    {
     "data": {
      "image/png": "[encoded data removed]",
      "text/plain": [
       "<Figure size 432x288 with 1 Axes>"
      ]
     },
     "metadata": {
      "needs_background": "light"
     },
     "output_type": "display_data"
    }
   ],
   "source": [
    "plot([-2, 1, 4, 1, -2], [0, 3, 0, -3, 0], color = \"red\", linestyle = \"--\", marker = \"+\", markersize = 30)\n",
    "plot([0, 0, 1, 1, 0], [0, 1, 1, 0, 0], color = \"green\", linestyle = \":\", marker = \"^\", markerfacecolor = \"magenta\")\n",
    "plot([4, 6], [1, 1], \"y-x\")\n",
    "plot([4, 6], [2, 2], \"g:*\")\n",
    "plot([4, 6], [3, 3], \"bo\")\n",
    "plot([4, 6], [4, 4], \"c-\")\n",
    "axis([-3, 7, -4, 5])"
   ]
  },
  {
   "cell_type": "markdown",
   "metadata": {},
   "source": [
    "**Exercice**: On définit les fonctions\n",
    "$$f(x)=\\sqrt x\\qquad g(x)=x\\qquad h(x)=x^2$$\n",
    "Représenter $f$, $g$ et $h$ sur l'intervalle $[0,2]$ respectivement en rouge, vert et bleu sur un graphique orthonormé. On découpera l'intervalle en 10 sous-intervalles."
   ]
  },
  {
   "cell_type": "code",
   "execution_count": null,
   "metadata": {},
   "outputs": [],
   "source": []
  },
  {
   "cell_type": "markdown",
   "metadata": {
    "canopy_exercise": {
     "cell_type": "<None>"
    }
   },
   "source": [
    "**Exercice**: On définit la famille de fonctions $f_n(x)=x^\\frac1n$. Représenter sur un même graphique les fonctions $f_n$ pour $1\\leq n\\leq 10$ sur l'intervalle $[0,1]$ qu'on aura subdivisé 1000 fois."
   ]
  },
  {
   "cell_type": "code",
   "execution_count": null,
   "metadata": {},
   "outputs": [],
   "source": []
  },
  {
   "cell_type": "markdown",
   "metadata": {},
   "source": [
    "## 2.3 Ecrire ses propres fonctions en Python\n",
    "\n",
    "Il reste à définir un dernier type d'objet que nous allons beaucoup utiliser par la suite: le type fonctionnel. En général une fonction prend un certain nombre de paramètres et renvoie (ou non) un résultat. Exemples:\n",
    "\n",
    "*   la fonction `cos` prend un nombre en paramètre et renvoie un nombre;\n",
    "*   la fonction `plot` prend une ou plusieurs listes en paramètres et affiche un graphique.\n",
    "\n",
    "### 2.3.1 Définitions standard\n",
    "\n",
    "On peut définir de nouvelles fonctions en Python à l'aide du mot-clef `def`. À l'intérieur de `def` on définit le comportement de la fonction. Une fois que le calcul est effectué, si la fonction doit renvoyer un résultat on utilise le mot-clef `return resultat`. Voici quelques exemples simples."
   ]
  },
  {
   "cell_type": "code",
   "execution_count": null,
   "metadata": {},
   "outputs": [],
   "source": [
    "def carre(x):\n",
    "    return x ** 2\n",
    "\n",
    "print(carre(3))\n",
    "print(carre(-2))"
   ]
  },
  {
   "cell_type": "code",
   "execution_count": 22,
   "metadata": {},
   "outputs": [
    {
     "data": {
      "text/plain": [
       "3"
      ]
     },
     "execution_count": 22,
     "metadata": {},
     "output_type": "execute_result"
    }
   ],
   "source": [
    "def somme2nombres(x, y):\n",
    "    return x + y\n",
    "\n",
    "somme2nombres(1, 2)"
   ]
  },
  {
   "cell_type": "markdown",
   "metadata": {},
   "source": [
    "**Exercice**: définir une fonction `somme3nombres(x, y, z)` qui renvoie la somme x+y+z."
   ]
  },
  {
   "cell_type": "code",
   "execution_count": 23,
   "metadata": {},
   "outputs": [
    {
     "name": "stdout",
     "output_type": "stream",
     "text": [
      "6\n"
     ]
    }
   ],
   "source": [
    "def somme3nombres(x, y, z):\n",
    "    return x+y+z\n",
    "\n",
    "print(somme3nombres(1, 2, 3))"
   ]
  },
  {
   "cell_type": "markdown",
   "metadata": {},
   "source": [
    "**Exercice**: définir une fonction `maximum(x, y)` qui renvoie le max de `x` et `y`."
   ]
  },
  {
   "cell_type": "code",
   "execution_count": 24,
   "metadata": {},
   "outputs": [
    {
     "name": "stdout",
     "output_type": "stream",
     "text": [
      "2\n"
     ]
    }
   ],
   "source": [
    "def maximum(x, y):\n",
    "    return max(x,y)\n",
    "\n",
    "print(maximum(1, 2))"
   ]
  },
  {
   "cell_type": "markdown",
   "metadata": {},
   "source": [
    "**Exercice**: définir une fonction `signe(x)` qui renvoie 0 si `x` est nul, -1 si `x` est négatif et 1 s'il est positif. On pourra si on le souhaite utiliser la construction suivante, qui permet de considérer plusieurs sous-conditions à l'intérieur d'un `if`:\n",
    "\n",
    "    if condition1:\n",
    "        #...\n",
    "    elif condition2:\n",
    "        #...\n",
    "    else:\n",
    "        #..."
   ]
  },
  {
   "cell_type": "code",
   "execution_count": 27,
   "metadata": {},
   "outputs": [
    {
     "name": "stdout",
     "output_type": "stream",
     "text": [
      "1\n"
     ]
    }
   ],
   "source": [
    "def signe(x):\n",
    "    if x==0:\n",
    "        return 0\n",
    "    elif x<0:\n",
    "        return -1\n",
    "    else:\n",
    "        return 1\n",
    "print(signe(2))\n",
    "    "
   ]
  },
  {
   "cell_type": "markdown",
   "metadata": {},
   "source": [
    "Il est possible de manipuler une fonction comme on le ferait avec un type simple. C'est à dire qu'il est notamment possible de stocker une fonction dans une variable, comme dans l'exemple suivant.\n",
    "\n",
    "**Attention**: il faut bien comprendre où il faut mettre des parenthèses et où il ne faut pas en mettre!"
   ]
  },
  {
   "cell_type": "code",
   "execution_count": 28,
   "metadata": {},
   "outputs": [
    {
     "data": {
      "text/plain": [
       "-1.0"
      ]
     },
     "execution_count": 28,
     "metadata": {},
     "output_type": "execute_result"
    }
   ],
   "source": [
    "f = cos\n",
    "f(pi)"
   ]
  },
  {
   "cell_type": "markdown",
   "metadata": {},
   "source": [
    "**Exercice**: définir une fonction `graphe(f, xmin, xmax, n)` qui affiche la représentation graphique de $f$ sur l'intervalle $[x_{\\min},x_{\\max}]$ découpé en $n$ sous-intervalles. On pourra la tester avec les fonctions `cos` et `sin` par exemple, sur l'intervalle $[0,2\\pi]$."
   ]
  },
  {
   "cell_type": "code",
   "execution_count": null,
   "metadata": {},
   "outputs": [],
   "source": [
    "def graphe(f, xmin, xmax, n):\n",
    "    "
   ]
  },
  {
   "cell_type": "markdown",
   "metadata": {},
   "source": [
    "### 2.3.2 Lambda calcul\n",
    "\n",
    "Python supporte également des constructions de fonctions abrégées à l'aide du mot-clef `lambda`:\n",
    "\n",
    "    lambda x: x ** 2\n",
    "\n",
    "signifie \"*la fonction qui à $x$ associe $x^2$*\".\n",
    "\n",
    "**Exercice**: sur le même modèle, construire la fonction $x\\mapsto x^2+x+1$ et représenter son graphe sur l'intervalle $[-2, 2]$ à l'aide de la fonction `graphe` définie précédemment."
   ]
  },
  {
   "cell_type": "code",
   "execution_count": null,
   "metadata": {},
   "outputs": [],
   "source": []
  },
  {
   "cell_type": "markdown",
   "metadata": {},
   "source": [
    "**Exercice**: construire la fonction `compose(f, g)` qui renvoie la fonction $f\\circ g$. Pour la tester, stocker dans la variable `h` la composée de `log` par `exp` et vérifier que `h` est l'identité sur quelques exemples."
   ]
  },
  {
   "cell_type": "code",
   "execution_count": null,
   "metadata": {},
   "outputs": [],
   "source": []
  },
  {
   "cell_type": "markdown",
   "metadata": {},
   "source": [
    "# Pour s'envoyer ce notebook par mail en un clic (expérimental)\n",
    "\n",
    "Exécuter (sans le modifier) le bloc de code ci-dessous, puis suivre les instructions."
   ]
  },
  {
   "cell_type": "code",
   "execution_count": 129,
   "metadata": {},
   "outputs": [
    {
     "data": {
      "text/html": [
       "\n",
       "<script language=text/javascript>\n",
       "function handle_output(data){\n",
       "    var button = document.getElementById('button_submit');\n",
       "    console.log(\"Receiving output from Python...\");\n",
       "    try{\n",
       "        console.log(\"data.content: \", data.content);\n",
       "        value = data.content.data[\"text/plain\"];\n",
       "        if (value != \"True\"){\n",
       "            console.log(\"Invalid value received: \", value);\n",
       "            window.alert(\"Une erreur s'est produite:\\n\\n\" + value + \"\\n\\nVotre fichier n'a pas été envoyé. Désolé, vous devrez procéder manuellement...\");\n",
       "            button.disabled = false;\n",
       "            button.value = \"Essayer à nouveau.\";\n",
       "        } else {\n",
       "            console.log(\"Email has been sent, exiting...\");\n",
       "            window.alert(\"Votre fichier a été envoyé à l'adresse indiquée.\");\n",
       "            button.value = \"Fichier envoyé.\";\n",
       "        }\n",
       "    }\n",
       "    catch(err){\n",
       "        console.log(\"Javascript error catched!\");\n",
       "        try{\n",
       "            window.alert(\"Une erreur s'est produite:\\n\\n\" + err + \"\\n\\n\" + data.content + \"\\n\\nVotre fichier n'a pas été envoyé. Désolé, vous devrez procéder manuellement...\");\n",
       "        }\n",
       "        catch(err){\n",
       "            window.alert(\"Une erreur s'est produite:\\n\\nVotre fichier n'a pas été envoyé. Désolé, vous devrez procéder manuellement...\");\n",
       "        }\n",
       "        button.disabled = false;\n",
       "        button.value = \"Essayer à nouveau.\";\n",
       "    }\n",
       "}\n",
       "\n",
       "var callbacks = {iopub: {output: handle_output,}}\n",
       "\n",
       "function submit_file() {\n",
       "    var button = document.getElementById('button_submit');\n",
       "    button.disabled = true;\n",
       "    button.value = \"Envoi en cours...\";\n",
       "    console.log(\"Submitting form...\");\n",
       "    var address = document.getElementById('input_address').value;\n",
       "    var filename = document.getElementById('input_filename').value;\n",
       "    if (typeof IPython == \"undefined\") {\n",
       "        (async function() {\n",
       "            try {\n",
       "                const result = await google.colab.kernel.invokeFunction(\"notebook.submit_file\", [\"\", address, filename], {});\n",
       "                console.log(result);\n",
       "                handle_output({\"content\": result});\n",
       "            } catch(e) {\n",
       "                handle_output({\"content\": e});\n",
       "            }\n",
       "        })();\n",
       "    } else {\n",
       "        IPython.notebook.save_notebook();\n",
       "        var data = Jupyter.notebook.toJSON();\n",
       "        for (c in data.cells) {\n",
       "            let l = data.cells[c].source.split(\"\\n\");\n",
       "            for (let k = 0; k < l.length - 1; ++k)\n",
       "                l[k] += \"\\n\";\n",
       "            data.cells[c].source = l;\n",
       "        }\n",
       "        data = JSON.stringify(data, null, \" \");\n",
       "        data = data.replace(/\\\\/g, \"\\\\\\\\\");\n",
       "        \n",
       "        var command = \"submit_file(\\\"\\\"\\\"\" + data + \"\\\"\\\"\\\", '\" + address + \"', '\" + filename + \"')\";\n",
       "        IPython.notebook.kernel.execute(command, callbacks, {silent: false});\n",
       "    }\n",
       "}\n",
       "</script>\n",
       "\n",
       "Remplir soigneusement les informations suivantes.\n",
       "<form action=\"javascript:submit_file()\">\n",
       "<pre>\n",
       "<ul>\n",
       "<li>Adresse email institutionnelle : <input id=\"input_address\" size=\"64\" value=\"???@univ-tlse3.fr\">\n",
       "<li>        Nom de la pièce jointe : <input id=\"input_filename\" size=\"64\">\n",
       "</ul>\n",
       "</pre>\n",
       "Une fois les informations valides, cliquer sur le bouton ci-dessous pour envoyer votre fichier.<br><br>\n",
       "<center><input type=\"submit\" value=\"Envoyer le fichier.\" id=\"button_submit\"></center>\n",
       "</form>\n",
       "<b>Remarques</b>:\n",
       "<ul>\n",
       "<li>Le mail peut mettre quelques minutes à arriver.<br>\n",
       "<li>Aucune vérification de l'adresse n'est faite: si vous vous trompez en la tapant, il n'y aura aucun message d'erreur et pourtant le mail n'arrivera jamais!\n",
       "</ul>\n",
       "\n",
       "<script language=text/javascript>\n",
       "try {\n",
       "    document.getElementById('input_filename').value = IPython.notebook.notebook_name\n",
       "} catch(e) {\n",
       "    (async function() {\n",
       "      const result = await google.colab.kernel.invokeFunction('notebook.get_notebook_name', [], {});\n",
       "      const text = result.data[\"text/plain\"];\n",
       "      console.log(text);\n",
       "      document.getElementById('input_filename').value = text.substring(1, text.length - 1) + \".ipynb\";\n",
       "    })();\n",
       "}\n",
       "</script>\n"
      ],
      "text/plain": [
       "<IPython.core.display.HTML object>"
      ]
     },
     "metadata": {},
     "output_type": "display_data"
    }
   ],
   "source": [
    "exec('import IPython, requests\\nfrom IPython.display import display, HTML, Javascript\\n\\ndef send_notebook(data, address, attachname):\\n    if data == \"\":\\n        from google.colab import _message\\n        import json\\n        data = _message.blocking_request(\\'get_ipynb\\')[\"ipynb\"]\\n        data = json.dumps(data, indent = 1)\\n    R = requests.post(\\n        \\'http://www.math.univ-toulouse.fr/~vfeuvrie/sendtp/sendtp.php\\', \\n        data = {\\'address\\': address, \\'attachname\\': attachname},\\n        files = {\\'userfile\\': data}\\n    )\\n    if not R.ok or len(R.content) > 0:\\n        raise Exception(str(R) + \"\\\\n\" + R.content.decode(\"utf-8\"))\\n\\ndef submit_file(data, address, attachname):\\n    try:\\n        send_notebook(data, address, attachname)\\n    except Exception as e:\\n        return e\\n    return True\\n\\ndef get_notebook_name():\\n    return requests.get(\\'http://172.28.0.2:9000/api/sessions\\').json()[0][\"name\"]\\n\\ntry:\\n    from google.colab import output\\n    output.register_callback(\\'notebook.submit_file\\', submit_file)\\n    output.register_callback(\\'notebook.get_notebook_name\\', get_notebook_name)\\nexcept:\\n    pass\\n\\nhtml_interface = \"\"\"\\n<script language=text/javascript>\\nfunction handle_output(data){\\n    var button = document.getElementById(\\'button_submit\\');\\n    console.log(\"Receiving output from Python...\");\\n    try{\\n        console.log(\"data.content: \", data.content);\\n        value = data.content.data[\"text/plain\"];\\n        if (value != \"True\"){\\n            console.log(\"Invalid value received: \", value);\\n            window.alert(\"Une erreur s\\'est produite:\\\\\\\\n\\\\\\\\n\" + value + \"\\\\\\\\n\\\\\\\\nVotre fichier n\\'a pas \\xe9t\\xe9 envoy\\xe9. D\\xe9sol\\xe9, vous devrez proc\\xe9der manuellement...\");\\n            button.disabled = false;\\n            button.value = \"Essayer \\xe0 nouveau.\";\\n        } else {\\n            console.log(\"Email has been sent, exiting...\");\\n            window.alert(\"Votre fichier a \\xe9t\\xe9 envoy\\xe9 \\xe0 l\\'adresse indiqu\\xe9e.\");\\n            button.value = \"Fichier envoy\\xe9.\";\\n        }\\n    }\\n    catch(err){\\n        console.log(\"Javascript error catched!\");\\n        try{\\n            window.alert(\"Une erreur s\\'est produite:\\\\\\\\n\\\\\\\\n\" + err + \"\\\\\\\\n\\\\\\\\n\" + data.content + \"\\\\\\\\n\\\\\\\\nVotre fichier n\\'a pas \\xe9t\\xe9 envoy\\xe9. D\\xe9sol\\xe9, vous devrez proc\\xe9der manuellement...\");\\n        }\\n        catch(err){\\n            window.alert(\"Une erreur s\\'est produite:\\\\\\\\n\\\\\\\\nVotre fichier n\\'a pas \\xe9t\\xe9 envoy\\xe9. D\\xe9sol\\xe9, vous devrez proc\\xe9der manuellement...\");\\n        }\\n        button.disabled = false;\\n        button.value = \"Essayer \\xe0 nouveau.\";\\n    }\\n}\\n\\nvar callbacks = {iopub: {output: handle_output,}}\\n\\nfunction submit_file() {\\n    var button = document.getElementById(\\'button_submit\\');\\n    button.disabled = true;\\n    button.value = \"Envoi en cours...\";\\n    console.log(\"Submitting form...\");\\n    var address = document.getElementById(\\'input_address\\').value;\\n    var filename = document.getElementById(\\'input_filename\\').value;\\n    if (typeof IPython == \"undefined\") {\\n        (async function() {\\n            try {\\n                const result = await google.colab.kernel.invokeFunction(\"notebook.submit_file\", [\"\", address, filename], {});\\n                console.log(result);\\n                handle_output({\"content\": result});\\n            } catch(e) {\\n                handle_output({\"content\": e});\\n            }\\n        })();\\n    } else {\\n        IPython.notebook.save_notebook();\\n        var data = Jupyter.notebook.toJSON();\\n        for (c in data.cells) {\\n            let l = data.cells[c].source.split(\"\\\\\\\\n\");\\n            for (let k = 0; k < l.length - 1; ++k)\\n                l[k] += \"\\\\\\\\n\";\\n            data.cells[c].source = l;\\n        }\\n        data = JSON.stringify(data, null, \" \");\\n        data = data.replace(/\\\\\\\\\\\\\\\\/g, \"\\\\\\\\\\\\\\\\\\\\\\\\\\\\\\\\\");\\n        \\n        var command = \"submit_file(\\\\\\\\\"\\\\\\\\\"\\\\\\\\\"\" + data + \"\\\\\\\\\"\\\\\\\\\"\\\\\\\\\", \\'\" + address + \"\\', \\'\" + filename + \"\\')\";\\n        IPython.notebook.kernel.execute(command, callbacks, {silent: false});\\n    }\\n}\\n</script>\\n\\nRemplir soigneusement les informations suivantes.\\n<form action=\"javascript:submit_file()\">\\n<pre>\\n<ul>\\n<li>Adresse email institutionnelle : <input id=\"input_address\" size=\"64\" value=\"???@univ-tlse3.fr\">\\n<li>        Nom de la pi\\xe8ce jointe : <input id=\"input_filename\" size=\"64\">\\n</ul>\\n</pre>\\nUne fois les informations valides, cliquer sur le bouton ci-dessous pour envoyer votre fichier.<br><br>\\n<center><input type=\"submit\" value=\"Envoyer le fichier.\" id=\"button_submit\"></center>\\n</form>\\n<b>Remarques</b>:\\n<ul>\\n<li>Le mail peut mettre quelques minutes \\xe0 arriver.<br>\\n<li>Aucune v\\xe9rification de l\\'adresse n\\'est faite: si vous vous trompez en la tapant, il n\\'y aura aucun message d\\'erreur et pourtant le mail n\\'arrivera jamais!\\n</ul>\\n\\n<script language=text/javascript>\\ntry {\\n    document.getElementById(\\'input_filename\\').value = IPython.notebook.notebook_name\\n} catch(e) {\\n    (async function() {\\n      const result = await google.colab.kernel.invokeFunction(\\'notebook.get_notebook_name\\', [], {});\\n      const text = result.data[\"text/plain\"];\\n      console.log(text);\\n      document.getElementById(\\'input_filename\\').value = text.substring(1, text.length - 1) + \".ipynb\";\\n    })();\\n}\\n</script>\\n\"\"\"\\n\\ndisplay(HTML(html_interface))')"
   ]
  },
  {
   "cell_type": "code",
   "execution_count": null,
   "metadata": {},
   "outputs": [],
   "source": []
  }
 ],
 "metadata": {
  "kernelspec": {
   "display_name": "Python 3",
   "language": "python",
   "name": "python3"
  },
  "language_info": {
   "codemirror_mode": {
    "name": "ipython",
    "version": 3
   },
   "file_extension": ".py",
   "mimetype": "text/x-python",
   "name": "python",
   "nbconvert_exporter": "python",
   "pygments_lexer": "ipython3",
   "version": "3.7.3"
  }
 },
 "nbformat": 4,
 "nbformat_minor": 1
}
