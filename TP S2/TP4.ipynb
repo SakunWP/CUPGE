{
 "cells": [
  {
   "metadata": {
    "trusted": true
   },
   "cell_type": "code",
   "source": [
    "# Ne pas oublier d'exécuter cette ligne au début de chaque séance pour charger les bibliothèques nécessaires\n",
    "%pylab inline"
   ],
   "execution_count": 1,
   "outputs": [
    {
     "output_type": "stream",
     "text": "Populating the interactive namespace from numpy and matplotlib\n",
     "name": "stdout"
    }
   ]
  },
  {
   "metadata": {},
   "cell_type": "markdown",
   "source": [
    "<H1>L1 CUPGE - Python TP4</H1>\n",
    "\n",
    "# 1 Tableaux\n",
    "\n",
    "## 1.1 Le type `array`\n",
    "\n",
    "Le type `array` permet de manipuler des tableaux de nombres. Il est similaire au type `list` qu'on a déjà utilisé. Les différences principales sont les suivantes:\n",
    "\n",
    "-   tous les éléments du tableau doivent être de même type;\n",
    "-   les opérateurs `+`, `-`, etc. ainsi que la plupart des fonctions numériques effectuent des opérations terme à terme;\n",
    "-   il est compliqué d'ajouter ou enlever des éléments à un tableau (contrairement à une liste). En général, on crée d'abord un tableau de la taille désirée qu'on remplit ensuite avec les valeurs souhaitées.\n",
    "\n",
    "On peut créer un tableau à partir d'une liste en la convertissant grâce à la fonction `array`. Le deuxième argument est optionnel, il définit le type des éléments du tableau.\n",
    "\n",
    "Voici quelques exemples d'utilisation élémentaire."
   ]
  },
  {
   "metadata": {
    "trusted": true
   },
   "cell_type": "code",
   "source": [
    "T0 = array([0, 1, 2, 3, 4, 5])\n",
    "print(\"T0 =\", T0)\n",
    "print(\"T0 est de type :\", type(T0))\n",
    "\n",
    "T1 = array([2, -1, 7, 9, 3, 11], float)\n",
    "print(\"T1 =\", T1)\n",
    "\n",
    "print(\"T1 * T0 =\", T1 * T0)   #Opérations élément par élément\n",
    "print(\"T1 + T0 =\", T1 + T0)\n",
    "print(\"3 * cos(T1 * pi) =\", 3 * cos(T1 * pi))"
   ],
   "execution_count": 2,
   "outputs": [
    {
     "output_type": "stream",
     "text": "T0 = [0 1 2 3 4 5]\nT0 est de type : <class 'numpy.ndarray'>\nT1 = [ 2. -1.  7.  9.  3. 11.]\nT1 * T0 = [ 0. -1. 14. 27. 12. 55.]\nT1 + T0 = [ 2.  0.  9. 12.  7. 16.]\n3 * cos(T1 * pi) = [ 3. -3. -3. -3. -3. -3.]\n",
     "name": "stdout"
    }
   ]
  },
  {
   "metadata": {
    "trusted": true
   },
   "cell_type": "code",
   "source": [
    "#Parcours des éléments\n",
    "for k in range(len(T1)):\n",
    "    print(T1[k])"
   ],
   "execution_count": 3,
   "outputs": [
    {
     "output_type": "stream",
     "text": "2.0\n-1.0\n7.0\n9.0\n3.0\n11.0\n",
     "name": "stdout"
    }
   ]
  },
  {
   "metadata": {},
   "cell_type": "markdown",
   "source": [
    "## 1.2 Les tableaux bidimensionnels\n",
    "\n",
    "Les tableaux peuvent aussi avoir plusieurs dimensions. Par exemple, dans ce qui suit, on va manipuler des tableaux bidimensionnels (créés à partir de listes de listes de nombres).\n",
    "\n",
    "Dans ce cas, on notera que la convention consiste à indexer:\n",
    "\n",
    "-   d'abord le numéro de la ligne (en partant du haut, zéro pour la première ligne);\n",
    "-   puis le numéro de la colonne (en partant de la gauche, zéro pour la première colonne).\n",
    "\n",
    "Voici quelques exemples."
   ]
  },
  {
   "metadata": {
    "trusted": true
   },
   "cell_type": "code",
   "source": [
    "T2 = array([[1, 2, 3, 4], \n",
    "            [5, 6, 7, 8],\n",
    "            [9, 10, 11, 12],\n",
    "            [13, 14, 15, 16]])\n",
    "print(T2)\n",
    "print(T2[1, 2])    # affichage de l'élément sur la 2ème ligne et la 3ème colonne\n",
    "T2[3, 1] = 0       # modification de l'élément sur la 4ème ligne et 2ème colonne\n",
    "print(T2)"
   ],
   "execution_count": 4,
   "outputs": [
    {
     "output_type": "stream",
     "text": "[[ 1  2  3  4]\n [ 5  6  7  8]\n [ 9 10 11 12]\n [13 14 15 16]]\n7\n[[ 1  2  3  4]\n [ 5  6  7  8]\n [ 9 10 11 12]\n [13  0 15 16]]\n",
     "name": "stdout"
    }
   ]
  },
  {
   "metadata": {
    "trusted": true
   },
   "cell_type": "code",
   "source": [
    "#Affichage des éléments sur la diagonale descendante\n",
    "for k in range(4):\n",
    "    print(T2[k, k])"
   ],
   "execution_count": 5,
   "outputs": [
    {
     "output_type": "stream",
     "text": "1\n6\n11\n16\n",
     "name": "stdout"
    }
   ]
  },
  {
   "metadata": {},
   "cell_type": "markdown",
   "source": [
    "**Exercice**: sur le modèle de la boucle précédente, afficher les éléments de `T2` situés sur la diagonale montante."
   ]
  },
  {
   "metadata": {
    "trusted": true
   },
   "cell_type": "code",
   "source": [
    "for k in range(4):\n",
    "    print(T2[3-k, k])"
   ],
   "execution_count": 16,
   "outputs": [
    {
     "output_type": "stream",
     "text": "13\n10\n7\n4\n",
     "name": "stdout"
    }
   ]
  },
  {
   "metadata": {},
   "cell_type": "markdown",
   "source": [
    "On dispose de plusieurs fonctions pour créer des tableaux à deux dimensions:\n",
    "\n",
    "-   `zeros([hauteur, largeur])` pour créer un tableau de `float` rempli de zéros;\n",
    "-   `ones([hauteur, largeur])` pour créer un tableau rempli de uns;\n",
    "-   `rand(hauteur, largeur)` pour créer un tableau rempli de valeurs aléatoires comprises entre 0 et 1. Cette dernière fonction ne prend pas de crochets pour spécifier la taille du tableau.\n",
    ""
   ]
  },
  {
   "metadata": {
    "trusted": true
   },
   "cell_type": "code",
   "source": [
    "print(zeros([2, 3]))\n",
    "print(ones([3, 2]))\n",
    "print(rand(3, 3))"
   ],
   "execution_count": 17,
   "outputs": [
    {
     "output_type": "stream",
     "text": "[[0. 0. 0.]\n [0. 0. 0.]]\n[[1. 1.]\n [1. 1.]\n [1. 1.]]\n[[0.25703923 0.65611896 0.5856552 ]\n [0.2668006  0.62255999 0.70871256]\n [0.94861    0.5704693  0.17527981]]\n",
     "name": "stdout"
    }
   ]
  },
  {
   "metadata": {},
   "cell_type": "markdown",
   "source": [
    "**Exercice**: générer un tableau de taille $10\\times10$ qui contient la table de multiplication des entiers compris entre 1 et 10."
   ]
  },
  {
   "metadata": {
    "trusted": false
   },
   "cell_type": "code",
   "source": [
    ""
   ],
   "execution_count": null,
   "outputs": []
  },
  {
   "metadata": {},
   "cell_type": "markdown",
   "source": [
    "# 2 Géométrie\n",
    "\n",
    "## 2.1 Géométrie dans le plan\n",
    "\n",
    "Dans ce qui suit, on se place dans le plan $\\mathbb R^2$. Dans Python, on représentera des points ou des vecteurs du plan par des tableaux contenant deux nombres qui représentent leurs coordonnées dans la base canonique.\n",
    "\n",
    "Python fournit quelques fonctions utiles pour manipuler de tels objets:\n",
    "\n",
    "-   `norm(u)` renvoie la norme d'un vecteur;\n",
    "-   `dot(u, v)` renvoie le produit scalaire des vecteurs $\\vec u$ et $\\vec v$.\n",
    "\n",
    "Écrire une fonction `normalize(u)` qui renvoie un vecteur **unitaire** de même direction et même sens que $\\vec u$."
   ]
  },
  {
   "metadata": {
    "collapsed": true,
    "trusted": false
   },
   "cell_type": "code",
   "source": [
    ""
   ],
   "execution_count": null,
   "outputs": []
  },
  {
   "metadata": {},
   "cell_type": "markdown",
   "source": [
    "Dans la cellule qui suit, on donne la fonction `display_vect` qui permet d'afficher des vecteurs à l'écran. Les paramètres `name`, `origin` et `color` sont optionnels."
   ]
  },
  {
   "metadata": {
    "trusted": false
   },
   "cell_type": "code",
   "source": [
    "def display_vect(vect, name = \"\", origin = zeros([2]), color = \"k\"):\n",
    "    plot(origin[0], origin[1], marker = \"o\", color = color)\n",
    "    plot(origin[0] - 0.2 * vect[0], origin[1] - 0.2 * vect[1], marker = None)\n",
    "    plot(origin[0] + 1.2 * vect[0], origin[1] + 1.2 * vect[1], marker = None)\n",
    "    v = vect / norm(vect)\n",
    "    r = 0.2 * sqrt(norm(vect))\n",
    "    arrow(origin[0], origin[1], vect[0] - r * v[0], vect[1] - r * v[1], \n",
    "          head_width = 0.5 * r, head_length = r,\n",
    "          fc = color, ec = color)\n",
    "    o = angle(- vect[1] + 1j * vect[0]) % pi\n",
    "    v = 0 * array([cos(o), sin(o)])\n",
    "    if o > 0.6 * pi:\n",
    "        ha = \"right\"\n",
    "    elif o < 0.4 * pi:\n",
    "        ha = \"left\"\n",
    "    else:\n",
    "        ha = \"center\"\n",
    "    if name == \"\":\n",
    "        t = \"\"\n",
    "    else:\n",
    "        t = \"$\\overrightarrow{\" + name + \"}$\"\n",
    "    text(origin[0] + 0.5 * vect[0] + v[0], origin[1] + 0.5 * vect[1] + v[1], t, \n",
    "         color = color, ha = ha, va = \"bottom\", rotation = o * 180 / pi - 90, size = 15)\n",
    "    axis(\"scaled\")\n",
    "    grid(True)\n",
    "    xticks(arange(trunc(xlim()[0]), ceil(xlim()[1]), 1))\n",
    "    yticks(arange(trunc(ylim()[0]), ceil(ylim()[1]), 1))\n",
    "\n",
    "u = array([1, 2])\n",
    "v = array([2, -2])\n",
    "display_vect(u, name = \"u\", color = \"red\")\n",
    "display_vect(v, origin = u, name = \"v\", color = \"green\")\n",
    "display_vect(u + v, name = \"u+v\", color = \"blue\")"
   ],
   "execution_count": null,
   "outputs": []
  },
  {
   "metadata": {},
   "cell_type": "markdown",
   "source": [
    "Soient $\\vec u$ et $\\vec v$ deux vecteurs avec $\\vec v$ non nul. Écrire une fonction `project(u, v)` qui renvoie la projection orthogonale du vecteur $\\vec u$ sur la droite de vecteur directeur $\\vec v$. L'utiliser pour calculer la projection du vecteur $(-1,3)$ sur le vecteur $(4,-1)$ et afficher le dessin des trois vecteurs.\n",
    "\n",
    "**Indication**: il peut être utile de faire un dessin. Notons $p(\\vec u)$ la projection de $\\vec u$. Puisque $\\vec v$ et $p(\\vec u)$ sont colinéaires, il existe donc $\\lambda\\in\\mathbb R$ tel que\n",
    "\n",
    "$$p(\\vec u)=\\lambda\\vec v.$$\n",
    "\n",
    "Par ailleurs, on sait aussi que\n",
    "\n",
    "$$\\vec u\\cdot\\vec v=p(\\vec u)\\cdot\\vec v.$$\n",
    "\n",
    "En combinant ces deux égalités, on peut en déduire aisément la valeur de $\\lambda$, et donc celle de $p(\\vec u)$..."
   ]
  },
  {
   "metadata": {
    "trusted": false
   },
   "cell_type": "code",
   "source": [
    "def project(u, v):\n",
    "    # Code à compléter...\n",
    "\n",
    "u = array([-1, 3])\n",
    "v = array([4, -1])\n",
    "w = project(u, v)\n",
    "print(w)\n",
    "\n",
    "display_vect(u, name = \"u\", color = \"red\")\n",
    "display_vect(v, name = \"v\", color = \"green\")\n",
    "display_vect(w, name = \"p(u)\", color = \"blue\")"
   ],
   "execution_count": null,
   "outputs": []
  },
  {
   "metadata": {},
   "cell_type": "markdown",
   "source": [
    "Écrire une fonction `reflect(u, v)` qui renvoie le symétrique du vecteur $\\vec u$ par rapport à la droite de vecteur directeur $\\vec v$. La tester avec les vecteurs $\\vec u$ et $\\vec v$ de la question précédente.\n",
    "\n",
    "**Indication**: là encore, il peut être utile de faire un dessin. Si on note $r(\\vec u)$ le symétrique de $\\vec u$, alors on a\n",
    "\n",
    "$$\\frac{\\vec u+r(\\vec u)}2=p(\\vec u).$$\n",
    "\n",
    "On en déduit aisément l'expression de $r(\\vec u)$ en fonction de $\\vec u$ et $p(\\vec u)$."
   ]
  },
  {
   "metadata": {
    "trusted": false
   },
   "cell_type": "code",
   "source": [
    "def reflect(u, v):\n",
    "    # Code à compléter...\n",
    "\n",
    "u = array([-1, 3])\n",
    "v = array([4, -1])\n",
    "w = reflect(u, v)\n",
    "print(w)\n",
    "\n",
    "display_vect(u, name = \"u\", color = \"red\")\n",
    "display_vect(v, name = \"v\", color = \"green\")\n",
    "display_vect(project(u, v), name = \"p(u)\", color = \"blue\")\n",
    "display_vect(w, name = \"r(u)\", color = \"black\")"
   ],
   "execution_count": null,
   "outputs": []
  },
  {
   "metadata": {},
   "cell_type": "markdown",
   "source": [
    "Dans ce qui suit, on représente une droite affine $\\mathcal D$ par:\n",
    "\n",
    "-   un point $P$ qui lui appartient;\n",
    "-   un vecteur directeur $\\vec u$.\n",
    "\n",
    "Ainsi, $\\mathcal D$ est l'ensemble des point $M$ tels que:\n",
    "$$\\overrightarrow{OM}=\\overrightarrow{OP}+k\\vec u,\\qquad k\\in\\mathbb R.$$\n",
    "\n",
    "On fournit une fonction `display_line(P, u)` pour afficher une telle droite."
   ]
  },
  {
   "metadata": {
    "trusted": false
   },
   "cell_type": "code",
   "source": [
    "def display_line(P, u):\n",
    "    v = u / norm(u)\n",
    "    arrow(P[0] - 100 * v[0], P[1] - 100 * v[1], 200 * v[0], 200 * v[1], ec = \"red\")\n",
    "    plot(P[0], P[1], \"o\")\n",
    "    display_vect(u, origin = P)\n",
    "    \n",
    "P = array([0, 3])\n",
    "u = array([-1, 2])\n",
    "Q = array([5, -1])\n",
    "v = array([-2, 1])\n",
    "\n",
    "display_line(P, u)\n",
    "display_line(Q, v)"
   ],
   "execution_count": null,
   "outputs": []
  },
  {
   "metadata": {},
   "cell_type": "markdown",
   "source": [
    "Définir une fonction `line_intersect(P, u, Q, v)` qui renvoie le point d'intersection des deux droites définies respectivement par les points $P$ et $Q$ et les vecteurs directeurs $\\vec u$ et $\\vec v$. On supposera que les droites ne sont pas parallèles et on pourra tester avec:\n",
    "$$P = (0, 3)\\qquad\\vec u = (-1, 2)\\qquad Q = (5, -1)\\qquad\\vec v = (-2, 1).$$"
   ]
  },
  {
   "metadata": {
    "trusted": false
   },
   "cell_type": "code",
   "source": [
    "def line_intersect(P, u, Q, v):\n",
    "    # Code à compléter...\n",
    "\n",
    "P = array([0, 3])\n",
    "u = array([-1, 2])\n",
    "Q = array([5, -1])\n",
    "v = array([-2, 1])\n",
    "\n",
    "print(line_intersect(P, u, Q, v))"
   ],
   "execution_count": null,
   "outputs": []
  },
  {
   "metadata": {},
   "cell_type": "markdown",
   "source": [
    "On représente un cercle $\\mathcal C$ par:\n",
    "\n",
    "-   son centre $C$;\n",
    "-   son rayon $r$.\n",
    "\n",
    "Ainsi $\\mathcal C$ est l'ensemble des points $M$ tels que:\n",
    "$$\\Vert\\overrightarrow{CM}\\Vert=r.$$\n",
    "\n",
    "On fournit une fonction `display_circle(C, r)` pour afficher un tel cercle."
   ]
  },
  {
   "metadata": {
    "trusted": false
   },
   "cell_type": "code",
   "source": [
    "def display_circle(C, r, color = \"black\"):\n",
    "    t = linspace(0, 2 * pi, 200)\n",
    "    plot(C[0], C[1], \"o\", color = color)\n",
    "    plot(C[0] + r * cos(t), C[1] + r * sin(t), color = color)\n",
    "    plot(C[0] - r - 0.3, C[1] - r - 0.3, marker = None)\n",
    "    plot(C[0] + r + 0.3, C[1] + r + 0.3, marker = None)\n",
    "    axis(\"equal\")\n",
    "    grid(True)\n",
    "\n",
    "C = array([1, -1.5])\n",
    "r = sqrt(5)\n",
    "\n",
    "display_circle(C, r)"
   ],
   "execution_count": null,
   "outputs": []
  },
  {
   "metadata": {},
   "cell_type": "markdown",
   "source": [
    "Définir une fonction `circle_intersect(P, u, C, r)` qui renvoie la liste des points d'intersection entre une droite et un cercle. Déterminer l'intersection du cercle de centre $\\left(1,-\\frac32\\right)$ et de rayon $\\sqrt5$ avec les deux droites des questions précédentes ainsi que la droite d'équation $x=4$."
   ]
  },
  {
   "metadata": {
    "trusted": false
   },
   "cell_type": "code",
   "source": [
    "def circle_intersect(P, u, C, r):\n",
    "    # Code à compléter...\n",
    "\n",
    "C = array([1, -1.5])\n",
    "r = sqrt(5)\n",
    "P = array([0, 3])\n",
    "u = array([-1, 2])\n",
    "Q = array([5, -1])\n",
    "v = array([-2, 1])\n",
    "R = array([4, 0])\n",
    "w = array([0, 1])\n",
    "\n",
    "display_circle(C, r)\n",
    "display_line(P, u)\n",
    "display_line(Q, v)\n",
    "display_line(R, w)\n",
    "\n",
    "print(circle_intersect(P, u, C, r))\n",
    "print(circle_intersect(Q, v, C, r))\n",
    "print(circle_intersect(R, w, C, r))"
   ],
   "execution_count": null,
   "outputs": []
  },
  {
   "metadata": {},
   "cell_type": "markdown",
   "source": [
    "## 2.2 Géométrie dans l'espace\n",
    "\n",
    "On se place à présent dans l'espace $\\mathbb R^3$. On représentera cette fois des points ou des vecteurs de l'espace par des tableaux contenant trois nombres qui représentent leurs coordonnées dans la base canonique.\n",
    "\n",
    "On dispose des fonctions suivantes:\n",
    "\n",
    "-   `norm(u)` renvoie la norme d'un vecteur;\n",
    "-   `dot(u, v)` renvoie le produit scalaire des vecteurs $\\vec u$ et $\\vec v$;\n",
    "-   `cross(u, v)` renvoie le produit vectoriel des vecteurs $\\vec u$ et $\\vec v$.\n",
    "\n",
    "Si besoin, redéfinir les fonctions `normalize`, `project` et `reflect` pour qu'elles fonctionnent dans ce contexte."
   ]
  },
  {
   "metadata": {
    "collapsed": true,
    "trusted": false
   },
   "cell_type": "code",
   "source": [
    ""
   ],
   "execution_count": null,
   "outputs": []
  },
  {
   "metadata": {},
   "cell_type": "markdown",
   "source": [
    "On représentera un plan affine $\\mathcal P$ par:\n",
    "\n",
    "-   un point $Q$ qui lui appartient;\n",
    "-   un vecteur normal $\\vec n$.\n",
    "\n",
    "Ainsi, $\\mathcal P$ est l'ensemble des point $M$ tels que:\n",
    "$$\\overrightarrow{QM}\\cdot\\vec n=0.$$\n",
    "\n",
    "Soit $\\mathcal D$ la droite passant par un point $P$ et de vecteur directeur $\\vec u$. On suppose que la droite n'est pas parallèle au plan $\\mathcal P$. Il existe donc une unique valeur de $k\\in\\mathbb R$ telle que\n",
    "$$P+k\\vec u\\in\\mathcal P.$$\n",
    "\n",
    "Définir une fonction `plane_intersect(P, u, Q, n)` qui renvoie:\n",
    "\n",
    "-   une liste à un seul élément contenant la valeur de $k$ définie plus haut si la droite n'est pas parallèle au plan;\n",
    "-   la liste vide `[]` si la droite est parallèle au plan."
   ]
  },
  {
   "metadata": {
    "collapsed": true,
    "trusted": false
   },
   "cell_type": "code",
   "source": [
    ""
   ],
   "execution_count": null,
   "outputs": []
  },
  {
   "metadata": {},
   "cell_type": "markdown",
   "source": [
    "Tester la fonction `plane_intersect` avec les droites:\n",
    "\n",
    "-   $P_1=(4,-2,2)$ et $\\vec u_1=(-2,1,-1)$,\n",
    "-   $P_2=(4,-2,2)$ et $\\vec u_2=(0,2,-1)$,\n",
    "\n",
    "et le plan:\n",
    "\n",
    "-   $Q=(-2,0,1)$ et $\\vec n=(1,1,2)$."
   ]
  },
  {
   "metadata": {
    "trusted": false
   },
   "cell_type": "code",
   "source": [
    "P1 = array([4, -2, 2])\n",
    "u1 = array([-2, 1, -1])\n",
    "P2 = array([4, -2, 2])\n",
    "u2 = array([0, 2, -1])\n",
    "Q = array([-2, 0, 1])\n",
    "n = array([1, 1, 2])\n",
    "\n",
    "print(plane_intersect(P1, u1, Q, n))\n",
    "print(plane_intersect(P2, u2, Q, n))"
   ],
   "execution_count": null,
   "outputs": []
  },
  {
   "metadata": {},
   "cell_type": "markdown",
   "source": [
    "Sur le même modèle, écrire une fonction `sphere_intersect(P, u, C, r)` qui renvoie la liste des zéro, une ou deux valeurs de $k$ correspondant aux intersections d'une droite avec la sphère de centre $C$ et de rayon $r$."
   ]
  },
  {
   "metadata": {
    "collapsed": true,
    "trusted": false
   },
   "cell_type": "code",
   "source": [
    ""
   ],
   "execution_count": null,
   "outputs": []
  },
  {
   "metadata": {},
   "cell_type": "markdown",
   "source": [
    "Tester la fonction `sphere_intersect` avec les droites:\n",
    "\n",
    "-   $P_1=(1,1,-3)$ et $\\vec u_1=(2,1,1)$,\n",
    "-   $P_2=(6,0,-2)$ et $\\vec u_2=(3,0,-1)$,\n",
    "-   $P_3=(2,-4,4)$ et $\\vec u_3=(-1,2,-2)$,\n",
    "\n",
    "et la sphère:\n",
    "\n",
    "-   $C=(2,3,6)$ et $r=7$."
   ]
  },
  {
   "metadata": {
    "trusted": false
   },
   "cell_type": "code",
   "source": [
    "P1 = array([1, 1, -3])\n",
    "u1 = array([2, 1, 1])\n",
    "P2 = array([6, 0, -2])\n",
    "u2 = array([3, 0, -1])\n",
    "P3 = array([2, -4, 4])\n",
    "u3 = array([-1, 2, -2])\n",
    "C = array([2, 3, 6])\n",
    "r = 7\n",
    "\n",
    "print(sphere_intersect(P1, u1, C, r))\n",
    "print(sphere_intersect(P2, u2, C, r))\n",
    "print(sphere_intersect(P3, u3, C, r))"
   ],
   "execution_count": null,
   "outputs": []
  },
  {
   "metadata": {},
   "cell_type": "markdown",
   "source": [
    "# 3 Application à la synthèse d'images photoréalistes\n",
    "\n",
    "Le but de cette partie est d'appliquer les fonctions d'algèbre linéaire qu'on a définies dans la partie précédente pour synthétiser l'image d'une scène en 3D à l'aide de modèles physiques d'éclairement simplifiés.\n",
    "\n",
    "## 3.1 Introduction aux images\n",
    "\n",
    "Les tableaux à deux dimensions de nombres flottants peuvent être assimilés à des images. Chaque case contient une intensité lumineuse qui définit la couleur d'un pixel de l'image. La fonction `imshow` de Python permet d'effecteur la représentation d'une image à l'écran selon ce principe.\n",
    "\n",
    "Voici un exemple avec la table de multiplication vue précédemment."
   ]
  },
  {
   "metadata": {
    "trusted": false
   },
   "cell_type": "code",
   "source": [
    "T = zeros([10, 10])\n",
    "for y in range(10):\n",
    "    for x in range(10):\n",
    "        T[y, x] = (x + 1) * (y + 1)\n",
    "print(T)\n",
    "imshow(T, cmap = \"gray\", interpolation = \"nearest\")"
   ],
   "execution_count": null,
   "outputs": []
  },
  {
   "metadata": {},
   "cell_type": "markdown",
   "source": [
    "Dans ce qui suit, on considère une fonction $f$ à deux variables $u$ et $v$, définie pour $u\\in[-1,1]$ et $v\\in[-1,1]$. On fournit la fonction `display_image_2d(N, f)`. Celle-ci va afficher une image de taille $N\\times N$ qui contient les valeurs de $f$ en identifiant:\n",
    "\n",
    "-   le coin inférieur gauche aux coordonnées $u=-1$ et $v=-1$;\n",
    "-   le coin supérieur droit aux coordonnées $u=1$ et $v=1$."
   ]
  },
  {
   "metadata": {
    "trusted": false
   },
   "cell_type": "code",
   "source": [
    "def display_image_2d(N, f):\n",
    "    image = zeros([N, N])\n",
    "    for i in range(N):\n",
    "        v = 1 - 2.0 * i / N\n",
    "        for j in range(N):\n",
    "            u = 2.0 * j / N - 1\n",
    "            image[i, j] = f(u, v)\n",
    "    imshow(image, cmap = \"gray\", interpolation = \"nearest\")\n",
    "    \n",
    "def f(u, v):\n",
    "    return cos(100 * (u ** 2 + v ** 3))\n",
    "\n",
    "display_image_2d(300, f)"
   ],
   "execution_count": null,
   "outputs": []
  },
  {
   "metadata": {},
   "cell_type": "markdown",
   "source": [
    "On définit la fonction $\\operatorname{damier}$ par:\n",
    "\n",
    "$$\\operatorname{damier}(u,v)=(-1)^{E(u)+E(v)},$$\n",
    "\n",
    "où $E(x)$ représente la partie entière de $x$. Implémenter cette fonction, et sur le modèle précédent, représenter l'image obtenue.\n",
    "\n",
    "**Indication**: en Python, la fonction \"partie entière\" s'appelle `floor`."
   ]
  },
  {
   "metadata": {
    "trusted": false
   },
   "cell_type": "code",
   "source": [
    "def damier(u, v):\n",
    "    # Code à compléter...\n",
    "\n",
    "display_image_2d(300, damier)"
   ],
   "execution_count": null,
   "outputs": []
  },
  {
   "metadata": {},
   "cell_type": "markdown",
   "source": [
    "## 3.2 Représentation d'un plan\n",
    "\n",
    "On va maintenant s'intéresser au problème de représenter graphiquement un plan en 3D sur une image. Dans tout ce qui suit, on considère le plan contenant l'origine $(0,0,0)$ et de vecteur normal $\\vec n=(0,0,1)$.\n",
    "\n",
    "Une caméra est placée au point $(\\frac12,0,6)$ et orientée dans la direction $(0,1,0)$. On identifie la surface de l'image à un rectangle placé juste devant la caméra. Pour déterminer l'intensité lumineuse de chaque pixel, on considère une demi-droite qui part de la caméra et qui passe à travers l'écran au pixel considéré. Si elle rencontre un objet, le pixel prendra la couleur de cet objet. Sinon, le pixel prendra la couleur du ciel.\n",
    "\n",
    "Cette méthode s'appelle le *ray-tracing*: on reconstitue le chemin inverse des photons qui parviennent à la caméra.\n",
    "\n",
    "On fournit la fonction `display_image_3d(N, f)` ci-dessous qui génère une image selon ce paradigme. Pour la tester, définir une fonction `plane1(eye, direction)` qui renvoie:\n",
    "\n",
    "-   1 si la demi-droite issue de `eye` et dans la direction `direction` rencontre le plan,\n",
    "-   0 sinon.\n",
    "\n",
    "**Indication**: On pourra utiliser la fonction `plane_intersect` définie précédemment. Attention, la caméra ne voit pas ce qui se trouve derrière elle! Donc si `plane_intersect` renvoie une valeur négative, il faudra renvoyer zéro."
   ]
  },
  {
   "metadata": {
    "trusted": false
   },
   "cell_type": "code",
   "source": [
    "def display_image_3d(N, f, eye = array([0.5, 0.15, 6.0]), goal = array([0.5, 20.0, 6.0]), up = array([0.0, 0.0, 1.0]), d = 1.5):\n",
    "    image = zeros([N, N])\n",
    "    W = goal - eye\n",
    "    W *= d / norm(W)\n",
    "    U = cross(W, up)\n",
    "    U /= norm(U)\n",
    "    V = cross(U, W)\n",
    "    V /= norm(V)\n",
    "    for i in range(N):\n",
    "        v = 1 - 2.0 * i / N\n",
    "        for j in range(N):\n",
    "            u = 2.0 * j / N - 1\n",
    "            direction = W + u * U + v * V\n",
    "            image[i, j] = f(eye, direction / norm(direction))\n",
    "    imshow(image, cmap = \"gray\", interpolation = \"nearest\")\n",
    "    \n",
    "def plane1(eye, direction):\n",
    "    # Code à compléter...\n",
    "\n",
    "display_image_3d(300, plane1)"
   ],
   "execution_count": null,
   "outputs": []
  },
  {
   "metadata": {},
   "cell_type": "markdown",
   "source": [
    "La modélisation précédente donne un résultat décevant. On cherche à améliorer l'effet visuel de profondeur. Pour cela, on va appliquer une texture en forme de damier au plan.\n",
    "\n",
    "Cette fois, définir une fonction `plane2(eye, direction)` qui renvoie:\n",
    "\n",
    "-   $E_{\\text{texture}}=\\strut$ `1+damier(x,y)` si la demi-droite rencontre le plan au point $(x,y,z)$,\n",
    "-   0 sinon."
   ]
  },
  {
   "metadata": {
    "trusted": false
   },
   "cell_type": "code",
   "source": [
    "def plane2(eye, direction):\n",
    "    # Code à compléter...\n",
    "\n",
    "display_image_3d(300, plane2)"
   ],
   "execution_count": null,
   "outputs": []
  },
  {
   "metadata": {},
   "cell_type": "markdown",
   "source": [
    "Pour améliorer encore la modélisation, on va prendre en compte l'éclairement par une source lumineuse placée au point $(5,13,10)$ (éclairement de diffusion $E_{\\text{diffus}}$).\n",
    "\n",
    "Cette fois, définir une fonction `plane3(eye, direction)` qui renvoie:\n",
    "\n",
    "-   $E_{\\text{diffus}}=\\frac34(\\vec l\\cdot\\vec n)E_{\\text{texture}}$ si la demi-droite rencontre le plan au point $(x,y,z)$,\n",
    "-   0 sinon.\n",
    "\n",
    "Ici, $\\vec l$ désigne le vecteur unitaire qui va de la source lumineuse en direction du point d'intersection (vecteur d'*éclairement*)."
   ]
  },
  {
   "metadata": {
    "trusted": false
   },
   "cell_type": "code",
   "source": [
    "light_position = array([5, 13, 10])\n",
    "\n",
    "def plane3(eye, direction):\n",
    "    # Code à compléter...\n",
    "\n",
    "display_image_3d(300, plane3)"
   ],
   "execution_count": null,
   "outputs": []
  },
  {
   "metadata": {},
   "cell_type": "markdown",
   "source": [
    "## 3.3 Représentation d'une sphère\n",
    "\n",
    "On va maintenant s'intéresser au problème de représenter graphiquement une sphère en 3D. Dans tout ce qui suit, on considère la sphère de centre $(2,20,2)$ et de rayon $6$.\n",
    "\n",
    "Définir une fonction `sphere1(eye, direction)` qui renvoie:\n",
    "\n",
    "-   1 si la demi-droite issue de `eye` et dans la direction `direction` rencontre la sphère,\n",
    "-   0 sinon.\n",
    "\n",
    "**Indication**: On pourra utiliser la fonction `sphere_intersect` définie précédemment."
   ]
  },
  {
   "metadata": {
    "trusted": false
   },
   "cell_type": "code",
   "source": [
    "sphere_center = array([2, 20, 2])\n",
    "sphere_radius = 6\n",
    "\n",
    "def sphere1(eye, direction):\n",
    "    # Code à compléter...\n",
    "\n",
    "display_image_3d(300, sphere1)"
   ],
   "execution_count": null,
   "outputs": []
  },
  {
   "metadata": {},
   "cell_type": "markdown",
   "source": [
    "Là encore, on va améliorer la qualité de la modélisation en prenant en compte le modèle d'éclairement diffus.\n",
    "\n",
    "Cette fois, définir une fonction `sphere2(eye, direction)` qui renvoie: \n",
    "\n",
    "-   $E_{\\text{diffus}}=\\max\\left(\\vec l\\cdot\\vec n,\\frac1{10}\\right)$ si la demi-droite rencontre la sphère,\n",
    "-   0 sinon.\n",
    "\n",
    "Ici $\\vec n$ désigne le vecteur unitaire, sortant, normal à la sphère au point d'intersection considéré.\n",
    "\n",
    "**Indication**: en un point $M$ d'une sphère de centre $C$, le vecteur normal sortant est parallèle et de même sens que $\\overrightarrow{CM}$.\n",
    "\n",
    "Dans l'algorithme, il faudra prendre en compte le fait qu'il peut y avoir deux points d'intersection. Si c'est le cas, le point à considérer est celui qui est le plus proche de la caméra (c'est à dire, celui qui est obtenu pour la plus petite valeur de $k$). On pourra utiliser la fonction `min` de Python qui renvoie la plus petite valeur d'une liste."
   ]
  },
  {
   "metadata": {
    "trusted": false
   },
   "cell_type": "code",
   "source": [
    "def sphere2(eye, direction):\n",
    "    # Code à compléter...\n",
    "\n",
    "display_image_3d(300, sphere2)"
   ],
   "execution_count": null,
   "outputs": []
  },
  {
   "metadata": {},
   "cell_type": "markdown",
   "source": [
    "Pour améliorer encore la qualité, on va implémenter le modèle spéculaire qui sert à modéliser des surfaces brillantes. \n",
    "\n",
    "Cette fois, définir une fonction `sphere3(eye, direction)` qui renvoie: \n",
    "\n",
    "-   $E_{\\text{diffus}}+E_{\\text{spéculaire}}$ si la demi-droite rencontre la sphère,\n",
    "-   0 sinon.\n",
    "\n",
    "On utilisera:\n",
    "\n",
    "$$E_{\\text{spéculaire}}=\\max\\left(\\vec l\\cdot\\vec r,0\\right)^{10},$$\n",
    "\n",
    "où $\\vec r$ est le symétrique de `-direction` par rapport à $\\vec n$ (c'est à dire: la direction dans laquelle repartirait un photon qui aurait rebondi sur la surface).\n",
    "\n",
    "**Indication**: on pourra utiliser la fonction `reflect` définie précédemment."
   ]
  },
  {
   "metadata": {
    "trusted": false
   },
   "cell_type": "code",
   "source": [
    "def sphere3(eye, direction):\n",
    "    # Code à compléter...\n",
    "\n",
    "display_image_3d(300, sphere3)"
   ],
   "execution_count": null,
   "outputs": []
  },
  {
   "metadata": {},
   "cell_type": "markdown",
   "source": [
    "## 3.3 Modélisation avancée\n",
    "\n",
    "On cherche à présent à représenter à la fois la sphère et le plan sur la même image.\n",
    "\n",
    "Définir une fonction `scene1(eye, direction)` qui renvoie:\n",
    "\n",
    "-   2 si la demi-droite rencontre en premier la sphère,\n",
    "-   1 si la demi-droite rencontre en premier le plan,\n",
    "-   0 sinon.\n",
    "\n",
    "**Indication**: la difficulté de cet algorithme consiste à parcourir plusieurs listes d'intersections, et à déterminer parmi leurs éléments lequel est le plus petit, tout en gardant en mémoire dans quelle liste on l'a trouvé.\n",
    "\n",
    "On propose de l'implémenter de la façon suivante:\n",
    "\n",
    "-   initialiser les variables `distances` et `objects` pour qu'elles contiennent des listes vides;\n",
    "-   si `l` est la liste des intersections avec le plan, ajouter les éléments de `l` dans `distances`, et à chaque fois ajouter la valeur `1` dans `objects`;\n",
    "-   si `l` est la liste des intersections avec la sphère, faire de même mais ajouter la valeur `2` dans `objects`;\n",
    "-   il ne reste plus qu'à trouver le plus petit élément de `distances` (premier objet rencontré) qui soit positif (devant la caméra). Pour cela:\n",
    "    -   initialiser une variable `index` à la valeur `0`,\n",
    "    -   initialiser une variable `best` à la valeur $10^6$ (distance maximale),\n",
    "    -   pour chaque élément `distances[k]`, s'il est positif et inférieur à `best`, alors `best` prend la valeur de `distances[k]` et `index` prend la valeur de `objects[k]`,\n",
    "    -   à la fin, `index` contiendra `0` (pas d'intersection), `1` (intersection avec le plan) ou `2` (intersection avec la sphère) et `best` contiendra la distance de ce point d'intersection.\n",
    "    "
   ]
  },
  {
   "metadata": {
    "trusted": false
   },
   "cell_type": "code",
   "source": [
    "def scene1(eye, direction):\n",
    "    # Code à compléter...\n",
    "\n",
    "display_image_3d(300, scene1)"
   ],
   "execution_count": null,
   "outputs": []
  },
  {
   "metadata": {
    "collapsed": true
   },
   "cell_type": "markdown",
   "source": [
    "En modificant le code de la fonction précédente, définir une fonction `scene2(eye, direction)` qui applique les modèles d'éclairement de la sphère et du plan de la partie précédente."
   ]
  },
  {
   "metadata": {
    "trusted": false
   },
   "cell_type": "code",
   "source": [
    "def scene2(eye, direction):\n",
    "    # Code à compléter...\n",
    "\n",
    "display_image_3d(300, scene2)"
   ],
   "execution_count": null,
   "outputs": []
  },
  {
   "metadata": {},
   "cell_type": "markdown",
   "source": [
    "On cherche à implémenter l'ombre de la sphère sur le plan. On va modifier le modèle d'éclairement du plan de la manière suivante:\n",
    "\n",
    "-   $E_{\\text{diffus}}=\\frac34(\\vec l\\cdot\\vec n)E_{\\text{texture}}$ si la sphère n'intercepte pas le rayon lumineux qui va de la source lumineuse vers le point considéré,\n",
    "-   $E_{\\text{diffus}}=\\frac1{10}E_{\\text{texture}}$ sinon.\n",
    "\n",
    "En modifiant le code de la fonction précédente, définir une fonction `scene3(eye, direction)` qui implémente ce nouveau modèle."
   ]
  },
  {
   "metadata": {
    "trusted": false
   },
   "cell_type": "code",
   "source": [
    "def scene3(eye, direction):\n",
    "    # Code à compléter...\n",
    "\n",
    "display_image_3d(300, scene3)"
   ],
   "execution_count": null,
   "outputs": []
  },
  {
   "metadata": {},
   "cell_type": "markdown",
   "source": [
    "On cherche en plus à modéliser une surface réfléchissante sur la sphère, similaire à un miroir imparfait. Pour cela, lorsqu'un pixel de l'image est sur la sphère, on va à nouveau appeler la fonction dans la direction du rayon lumineux réfléchi et additionner la luminosité obtenue.\n",
    "\n",
    "Modifier le code de la fonction précédente pour définir une fonction `scene4` qui utilise le modèle suivant d'éclairement pour la sphère:\n",
    "\n",
    "$$E_{\\text{sphère}}=\\frac{E_{\\text{diffus}}+E_{\\text{spéculaire}}+\\text{scene4}(P,\\vec r)}2.$$\n",
    "\n",
    "Ici, $P$ désigne le point considéré de la sphère, et $\\vec r$ la direction du rayon lumineux réfléchi.\n",
    "\n",
    "On va aussi supposer que le ciel émet de la lumière, donc lorsqu'aucun objet n'est visible on renverra $\\frac12$ au lieu de zéro.\n",
    "\n",
    "**Important**: jusqu'ici, on a considéré que la caméra ne voyait que ce qui est devant elle, en testant si la distance est strictement positive. Avec la méthode proposée, les rayons réfléchis sont issus d'un point sur la sphère. Du fait des arrondis dans les calculs, pour éviter que l'appel récursif à la fonction ne redonne le même point d'intersection, on considérera que la caméra ne voit que ce qui se situe à une distance au moins $\\epsilon=10^{-6}$ de l'origine de la demi-droite."
   ]
  },
  {
   "metadata": {
    "trusted": false
   },
   "cell_type": "code",
   "source": [
    "def scene4(eye, direction):\n",
    "    # Code à compléter...\n",
    "\n",
    "display_image_3d(300, scene4)"
   ],
   "execution_count": null,
   "outputs": []
  },
  {
   "metadata": {},
   "cell_type": "markdown",
   "source": [
    "Pour aller encore plus loin, on va implémenter un ciel plus réaliste. Nous allons avoir besoin d'une bibliothèque supplémentaire.\n",
    "\n",
    "-   **Si vous êtes en salle informatique du bâtiment U3**\n",
    "\n",
    "    Commencer par télécharger sur votre compte (clic droit, puis enregistrer la sible du lien sous...) le fichier `get-pip.py` depuis l'adresse suivante:\n",
    "    \n",
    "    https://bootstrap.pypa.io/get-pip.py\n",
    "\n",
    "    Puis, dans le terminal, **après avoir quitté `ipython`**, taper successivement les deux lignes suivantes:\n",
    "```\n",
    "python3.5 get-pip.py --proxy user@proxy.univ-tlse3.fr:3128 --user\n",
    "~/.local/bin/pip3.5 install noise --proxy user@proxy.univ-tlse3.fr:3128 --user\n",
    "```\n",
    "\n",
    "-   **Si vous êtes sur votre machine personnelle avec les droits d'administrateur**\n",
    "\n",
    "    Il suffit de taper dans un interpréteur la commande suivante:\n",
    "```\n",
    "pip install noise\n",
    "```\n",
    "\n",
    "Lorsque c'est fait, vous pourrez fermer cette page et relancer `ipython`. Pour vérifier que la nouvelle bilbiothèque fonctionne, il faut l'initialiser à l'aide de la commande:\n",
    "\n",
    "    from noise import snoise3\n",
    "\n",
    "Définir une fonction `scene5(eye, direction)` qui, lorsqu'on ne rencontre aucun objet, renvoie $\\frac{\\text{snoise}(x,y,z,10)}2$ où $(x,y,z)$ sont les coordonnées du vecteur `direction`."
   ]
  },
  {
   "metadata": {
    "trusted": false
   },
   "cell_type": "code",
   "source": [
    "from noise import snoise3\n",
    "\n",
    "def scene5(eye, direction):\n",
    "    # Code à compléter...\n",
    "\n",
    "display_image_3d(300, scene5)"
   ],
   "execution_count": null,
   "outputs": []
  },
  {
   "metadata": {
    "trusted": false
   },
   "cell_type": "code",
   "source": [
    ""
   ],
   "execution_count": 1,
   "outputs": [
    {
     "name": "stdout",
     "output_type": "stream",
     "text": "Populating the interactive namespace from numpy and matplotlib\n"
    },
    {
     "data": {
      "image/png": "[encoded data removed]",
      "text/plain": "<matplotlib.figure.Figure at 0x84ee4a8>"
     },
     "metadata": {},
     "output_type": "display_data"
    }
   ]
  },
  {
   "metadata": {},
   "cell_type": "markdown",
   "source": [
    "# Pour s'envoyer ce notebook par mail en un clic (expérimental)\n",
    "\n",
    "Exécuter (sans le modifier) le bloc de code ci-dessous, puis suivre les instructions."
   ]
  },
  {
   "metadata": {
    "trusted": true
   },
   "cell_type": "code",
   "source": [
    "exec('import IPython, requests\\nfrom IPython.display import display, HTML, Javascript\\n\\ndef send_notebook(data, address, attachname):\\n    if data == \"\":\\n        from google.colab import _message\\n        import json\\n        data = _message.blocking_request(\\'get_ipynb\\')[\"ipynb\"]\\n        data = json.dumps(data, indent = 1)\\n    R = requests.post(\\n        \\'http://www.math.univ-toulouse.fr/~vfeuvrie/sendtp/sendtp.php\\', \\n        data = {\\'address\\': address, \\'attachname\\': attachname},\\n        files = {\\'userfile\\': data}\\n    )\\n    if not R.ok or len(R.content) > 0:\\n        raise Exception(str(R) + \"\\\\n\" + R.content.decode(\"utf-8\"))\\n\\ndef submit_file(data, address, attachname):\\n    try:\\n        send_notebook(data, address, attachname)\\n    except Exception as e:\\n        return e\\n    return True\\n\\ndef get_notebook_name():\\n    return requests.get(\\'http://172.28.0.2:9000/api/sessions\\').json()[0][\"name\"]\\n\\ntry:\\n    from google.colab import output\\n    output.register_callback(\\'notebook.submit_file\\', submit_file)\\n    output.register_callback(\\'notebook.get_notebook_name\\', get_notebook_name)\\nexcept:\\n    pass\\n\\nhtml_interface = \"\"\"\\n<script language=text/javascript>\\nfunction handle_output(data){\\n    var button = document.getElementById(\\'button_submit\\');\\n    console.log(\"Receiving output from Python...\");\\n    try{\\n        console.log(\"data.content: \", data.content);\\n        value = data.content.data[\"text/plain\"];\\n        if (value != \"True\"){\\n            console.log(\"Invalid value received: \", value);\\n            window.alert(\"Une erreur s\\'est produite:\\\\\\\\n\\\\\\\\n\" + value + \"\\\\\\\\n\\\\\\\\nVotre fichier n\\'a pas \\xe9t\\xe9 envoy\\xe9. D\\xe9sol\\xe9, vous devrez proc\\xe9der manuellement...\");\\n            button.disabled = false;\\n            button.value = \"Essayer \\xe0 nouveau.\";\\n        } else {\\n            console.log(\"Email has been sent, exiting...\");\\n            window.alert(\"Votre fichier a \\xe9t\\xe9 envoy\\xe9 \\xe0 l\\'adresse indiqu\\xe9e.\");\\n            button.value = \"Fichier envoy\\xe9.\";\\n        }\\n    }\\n    catch(err){\\n        console.log(\"Javascript error catched!\");\\n        try{\\n            window.alert(\"Une erreur s\\'est produite:\\\\\\\\n\\\\\\\\n\" + err + \"\\\\\\\\n\\\\\\\\n\" + data.content + \"\\\\\\\\n\\\\\\\\nVotre fichier n\\'a pas \\xe9t\\xe9 envoy\\xe9. D\\xe9sol\\xe9, vous devrez proc\\xe9der manuellement...\");\\n        }\\n        catch(err){\\n            window.alert(\"Une erreur s\\'est produite:\\\\\\\\n\\\\\\\\nVotre fichier n\\'a pas \\xe9t\\xe9 envoy\\xe9. D\\xe9sol\\xe9, vous devrez proc\\xe9der manuellement...\");\\n        }\\n        button.disabled = false;\\n        button.value = \"Essayer \\xe0 nouveau.\";\\n    }\\n}\\n\\nvar callbacks = {iopub: {output: handle_output,}}\\n\\nfunction submit_file() {\\n    var button = document.getElementById(\\'button_submit\\');\\n    button.disabled = true;\\n    button.value = \"Envoi en cours...\";\\n    console.log(\"Submitting form...\");\\n    var address = document.getElementById(\\'input_address\\').value;\\n    var filename = document.getElementById(\\'input_filename\\').value;\\n    if (typeof IPython == \"undefined\") {\\n        (async function() {\\n            try {\\n                const result = await google.colab.kernel.invokeFunction(\"notebook.submit_file\", [\"\", address, filename], {});\\n                console.log(result);\\n                handle_output({\"content\": result});\\n            } catch(e) {\\n                handle_output({\"content\": e});\\n            }\\n        })();\\n    } else {\\n        IPython.notebook.save_notebook();\\n        var data = Jupyter.notebook.toJSON();\\n        for (c in data.cells) {\\n            let l = data.cells[c].source.split(\"\\\\\\\\n\");\\n            for (let k = 0; k < l.length - 1; ++k)\\n                l[k] += \"\\\\\\\\n\";\\n            data.cells[c].source = l;\\n        }\\n        data = JSON.stringify(data, null, \" \");\\n        data = data.replace(/\\\\\\\\\\\\\\\\/g, \"\\\\\\\\\\\\\\\\\\\\\\\\\\\\\\\\\");\\n        \\n        var command = \"submit_file(\\\\\\\\\"\\\\\\\\\"\\\\\\\\\"\" + data + \"\\\\\\\\\"\\\\\\\\\"\\\\\\\\\", \\'\" + address + \"\\', \\'\" + filename + \"\\')\";\\n        IPython.notebook.kernel.execute(command, callbacks, {silent: false});\\n    }\\n}\\n</script>\\n\\nRemplir soigneusement les informations suivantes.\\n<form action=\"javascript:submit_file()\">\\n<pre>\\n<ul>\\n<li>Adresse email institutionnelle : <input id=\"input_address\" size=\"64\" value=\"???@univ-tlse3.fr\">\\n<li>        Nom de la pi\\xe8ce jointe : <input id=\"input_filename\" size=\"64\">\\n</ul>\\n</pre>\\nUne fois les informations valides, cliquer sur le bouton ci-dessous pour envoyer votre fichier.<br><br>\\n<center><input type=\"submit\" value=\"Envoyer le fichier.\" id=\"button_submit\"></center>\\n</form>\\n<b>Remarques</b>:\\n<ul>\\n<li>Le mail peut mettre quelques minutes \\xe0 arriver.<br>\\n<li>Aucune v\\xe9rification de l\\'adresse n\\'est faite: si vous vous trompez en la tapant, il n\\'y aura aucun message d\\'erreur et pourtant le mail n\\'arrivera jamais!\\n</ul>\\n\\n<script language=text/javascript>\\ntry {\\n    document.getElementById(\\'input_filename\\').value = IPython.notebook.notebook_name\\n} catch(e) {\\n    (async function() {\\n      const result = await google.colab.kernel.invokeFunction(\\'notebook.get_notebook_name\\', [], {});\\n      const text = result.data[\"text/plain\"];\\n      console.log(text);\\n      document.getElementById(\\'input_filename\\').value = text.substring(1, text.length - 1) + \".ipynb\";\\n    })();\\n}\\n</script>\\n\"\"\"\\n\\ndisplay(HTML(html_interface))')"
   ],
   "execution_count": 18,
   "outputs": [
    {
     "output_type": "display_data",
     "data": {
      "text/plain": "<IPython.core.display.HTML object>",
      "text/html": "\n<script language=text/javascript>\nfunction handle_output(data){\n    var button = document.getElementById('button_submit');\n    console.log(\"Receiving output from Python...\");\n    try{\n        console.log(\"data.content: \", data.content);\n        value = data.content.data[\"text/plain\"];\n        if (value != \"True\"){\n            console.log(\"Invalid value received: \", value);\n            window.alert(\"Une erreur s'est produite:\\n\\n\" + value + \"\\n\\nVotre fichier n'a pas été envoyé. Désolé, vous devrez procéder manuellement...\");\n            button.disabled = false;\n            button.value = \"Essayer à nouveau.\";\n        } else {\n            console.log(\"Email has been sent, exiting...\");\n            window.alert(\"Votre fichier a été envoyé à l'adresse indiquée.\");\n            button.value = \"Fichier envoyé.\";\n        }\n    }\n    catch(err){\n        console.log(\"Javascript error catched!\");\n        try{\n            window.alert(\"Une erreur s'est produite:\\n\\n\" + err + \"\\n\\n\" + data.content + \"\\n\\nVotre fichier n'a pas été envoyé. Désolé, vous devrez procéder manuellement...\");\n        }\n        catch(err){\n            window.alert(\"Une erreur s'est produite:\\n\\nVotre fichier n'a pas été envoyé. Désolé, vous devrez procéder manuellement...\");\n        }\n        button.disabled = false;\n        button.value = \"Essayer à nouveau.\";\n    }\n}\n\nvar callbacks = {iopub: {output: handle_output,}}\n\nfunction submit_file() {\n    var button = document.getElementById('button_submit');\n    button.disabled = true;\n    button.value = \"Envoi en cours...\";\n    console.log(\"Submitting form...\");\n    var address = document.getElementById('input_address').value;\n    var filename = document.getElementById('input_filename').value;\n    if (typeof IPython == \"undefined\") {\n        (async function() {\n            try {\n                const result = await google.colab.kernel.invokeFunction(\"notebook.submit_file\", [\"\", address, filename], {});\n                console.log(result);\n                handle_output({\"content\": result});\n            } catch(e) {\n                handle_output({\"content\": e});\n            }\n        })();\n    } else {\n        IPython.notebook.save_notebook();\n        var data = Jupyter.notebook.toJSON();\n        for (c in data.cells) {\n            let l = data.cells[c].source.split(\"\\n\");\n            for (let k = 0; k < l.length - 1; ++k)\n                l[k] += \"\\n\";\n            data.cells[c].source = l;\n        }\n        data = JSON.stringify(data, null, \" \");\n        data = data.replace(/\\\\/g, \"\\\\\\\\\");\n        \n        var command = \"submit_file(\\\"\\\"\\\"\" + data + \"\\\"\\\"\\\", '\" + address + \"', '\" + filename + \"')\";\n        IPython.notebook.kernel.execute(command, callbacks, {silent: false});\n    }\n}\n</script>\n\nRemplir soigneusement les informations suivantes.\n<form action=\"javascript:submit_file()\">\n<pre>\n<ul>\n<li>Adresse email institutionnelle : <input id=\"input_address\" size=\"64\" value=\"???@univ-tlse3.fr\">\n<li>        Nom de la pièce jointe : <input id=\"input_filename\" size=\"64\">\n</ul>\n</pre>\nUne fois les informations valides, cliquer sur le bouton ci-dessous pour envoyer votre fichier.<br><br>\n<center><input type=\"submit\" value=\"Envoyer le fichier.\" id=\"button_submit\"></center>\n</form>\n<b>Remarques</b>:\n<ul>\n<li>Le mail peut mettre quelques minutes à arriver.<br>\n<li>Aucune vérification de l'adresse n'est faite: si vous vous trompez en la tapant, il n'y aura aucun message d'erreur et pourtant le mail n'arrivera jamais!\n</ul>\n\n<script language=text/javascript>\ntry {\n    document.getElementById('input_filename').value = IPython.notebook.notebook_name\n} catch(e) {\n    (async function() {\n      const result = await google.colab.kernel.invokeFunction('notebook.get_notebook_name', [], {});\n      const text = result.data[\"text/plain\"];\n      console.log(text);\n      document.getElementById('input_filename').value = text.substring(1, text.length - 1) + \".ipynb\";\n    })();\n}\n</script>\n"
     },
     "metadata": {}
    }
   ]
  },
  {
   "metadata": {
    "trusted": true
   },
   "cell_type": "code",
   "source": [
    ""
   ],
   "execution_count": null,
   "outputs": []
  }
 ],
 "metadata": {
  "kernelspec": {
   "name": "python3",
   "display_name": "Python 3",
   "language": "python"
  },
  "language_info": {
   "name": "python",
   "version": "3.7.3",
   "mimetype": "text/x-python",
   "codemirror_mode": {
    "name": "ipython",
    "version": 3
   },
   "pygments_lexer": "ipython3",
   "nbconvert_exporter": "python",
   "file_extension": ".py"
  }
 },
 "nbformat": 4,
 "nbformat_minor": 1
}